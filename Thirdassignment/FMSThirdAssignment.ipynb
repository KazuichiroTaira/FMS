{
 "cells": [
  {
   "cell_type": "markdown",
   "metadata": {},
   "source": [
    "1. (10) Vehicles arrive at a park gate, where attendant hands out park brochures. Vehicles\n",
    "start to arrive at 9:00 am, at rate of 600 veh/h. After 30 min, the arrival flow declines to\n",
    "200 veh/h, and continues at that level to the rest of the day. The time to conduct each\n",
    "brochure handout transaction is 15 seconds.\n",
    "\n",
    "a. Draw a queuing diagram\n",
    "b. Calculate time when the queue will dissipate\n",
    "c. Calculate total delay\n",
    "d. Calculate average delay\n",
    "e. Determine longest delay\n",
    "f. Determine longest vehicle queue "
   ]
  },
  {
   "cell_type": "code",
   "execution_count": 21,
   "metadata": {},
   "outputs": [],
   "source": [
    "import pandas as pd\n",
    "import seaborn as sns\n",
    "import matplotlib.pyplot as plt\n",
    "import numpy as np\n",
    "import math"
   ]
  },
  {
   "cell_type": "code",
   "execution_count": 4,
   "metadata": {},
   "outputs": [
    {
     "name": "stdout",
     "output_type": "stream",
     "text": [
      "[  1   2   3   4   5   6   7   8   9  10  11  12  13  14  15  16  17  18\n",
      "  19  20  21  22  23  24  25  26  27  28  29  30  31  32  33  34  35  36\n",
      "  37  38  39  40  41  42  43  44  45  46  47  48  49  50  51  52  53  54\n",
      "  55  56  57  58  59  60  61  62  63  64  65  66  67  68  69  70  71  72\n",
      "  73  74  75  76  77  78  79  80  81  82  83  84  85  86  87  88  89  90\n",
      "  91  92  93  94  95  96  97  98  99 100 101 102 103 104 105 106 107 108\n",
      " 109 110 111 112 113 114 115 116 117 118 119 120 121 122 123 124 125 126\n",
      " 127 128 129 130 131 132 133 134 135 136 137 138 139 140 141 142 143 144\n",
      " 145 146 147 148 149 150 151 152 153 154 155 156 157 158 159 160 161 162\n",
      " 163 164 165 166 167 168 169 170 171 172 173 174 175 176 177 178 179 180\n",
      " 181 182 183 184 185 186 187 188 189 190 191 192 193 194 195 196 197 198\n",
      " 199 200 201 202 203 204 205 206 207 208 209 210 211 212 213 214 215 216\n",
      " 217 218 219 220 221 222 223 224 225 226 227 228 229 230 231 232 233 234\n",
      " 235 236 237 238 239 240 241 242 243 244 245 246 247 248 249 250 251 252\n",
      " 253 254 255 256 257 258 259 260 261 262 263 264 265 266 267 268 269 270\n",
      " 271 272 273 274 275 276 277 278 279 280 281 282 283 284 285 286 287 288\n",
      " 289 290 291 292 293 294 295 296 297 298 299 300]\n"
     ]
    }
   ],
   "source": [
    "time_period = np.arange(1,301)\n",
    "print(time_period)"
   ]
  },
  {
   "cell_type": "code",
   "execution_count": 5,
   "metadata": {},
   "outputs": [
    {
     "name": "stdout",
     "output_type": "stream",
     "text": [
      "[0. 0. 0. 0. 0. 0. 0. 0. 0. 0. 0. 0. 0. 0. 0. 0. 0. 0. 0. 0. 0. 0. 0. 0.\n",
      " 0. 0. 0. 0. 0. 0. 0. 0. 0. 0. 0. 0. 0. 0. 0. 0. 0. 0. 0. 0. 0. 0. 0. 0.\n",
      " 0. 0. 0. 0. 0. 0. 0. 0. 0. 0. 0. 0. 0. 0. 0. 0. 0. 0. 0. 0. 0. 0. 0. 0.\n",
      " 0. 0. 0. 0. 0. 0. 0. 0. 0. 0. 0. 0. 0. 0. 0. 0. 0. 0. 0. 0. 0. 0. 0. 0.\n",
      " 0. 0. 0. 0. 0. 0. 0. 0. 0. 0. 0. 0. 0. 0. 0. 0. 0. 0. 0. 0. 0. 0. 0. 0.\n",
      " 0. 0. 0. 0. 0. 0. 0. 0. 0. 0. 0. 0. 0. 0. 0. 0. 0. 0. 0. 0. 0. 0. 0. 0.\n",
      " 0. 0. 0. 0. 0. 0. 0. 0. 0. 0. 0. 0. 0. 0. 0. 0. 0. 0. 0. 0. 0. 0. 0. 0.\n",
      " 0. 0. 0. 0. 0. 0. 0. 0. 0. 0. 0. 0. 0. 0. 0. 0. 0. 0. 0. 0. 0. 0. 0. 0.\n",
      " 0. 0. 0. 0. 0. 0. 0. 0. 0. 0. 0. 0. 0. 0. 0. 0. 0. 0. 0. 0. 0. 0. 0. 0.\n",
      " 0. 0. 0. 0. 0. 0. 0. 0. 0. 0. 0. 0. 0. 0. 0. 0. 0. 0. 0. 0. 0. 0. 0. 0.\n",
      " 0. 0. 0. 0. 0. 0. 0. 0. 0. 0. 0. 0. 0. 0. 0. 0. 0. 0. 0. 0. 0. 0. 0. 0.\n",
      " 0. 0. 0. 0. 0. 0. 0. 0. 0. 0. 0. 0. 0. 0. 0. 0. 0. 0. 0. 0. 0. 0. 0. 0.\n",
      " 0. 0. 0. 0. 0. 0. 0. 0. 0. 0. 0. 0.]\n"
     ]
    }
   ],
   "source": [
    "arrival_rate = np.zeros(300)\n",
    "print(arrival_rate)"
   ]
  },
  {
   "cell_type": "code",
   "execution_count": 6,
   "metadata": {},
   "outputs": [
    {
     "name": "stdout",
     "output_type": "stream",
     "text": [
      "[10. 10. 10. 10. 10. 10. 10. 10. 10. 10. 10. 10. 10. 10. 10. 10. 10. 10.\n",
      " 10. 10. 10. 10. 10. 10. 10. 10. 10. 10. 10. 10.  0.  0.  0.  0.  0.  0.\n",
      "  0.  0.  0.  0.  0.  0.  0.  0.  0.  0.  0.  0.  0.  0.  0.  0.  0.  0.\n",
      "  0.  0.  0.  0.  0.  0.  0.  0.  0.  0.  0.  0.  0.  0.  0.  0.  0.  0.\n",
      "  0.  0.  0.  0.  0.  0.  0.  0.  0.  0.  0.  0.  0.  0.  0.  0.  0.  0.\n",
      "  0.  0.  0.  0.  0.  0.  0.  0.  0.  0.  0.  0.  0.  0.  0.  0.  0.  0.\n",
      "  0.  0.  0.  0.  0.  0.  0.  0.  0.  0.  0.  0.  0.  0.  0.  0.  0.  0.\n",
      "  0.  0.  0.  0.  0.  0.  0.  0.  0.  0.  0.  0.  0.  0.  0.  0.  0.  0.\n",
      "  0.  0.  0.  0.  0.  0.  0.  0.  0.  0.  0.  0.  0.  0.  0.  0.  0.  0.\n",
      "  0.  0.  0.  0.  0.  0.  0.  0.  0.  0.  0.  0.  0.  0.  0.  0.  0.  0.\n",
      "  0.  0.  0.  0.  0.  0.  0.  0.  0.  0.  0.  0.  0.  0.  0.  0.  0.  0.\n",
      "  0.  0.  0.  0.  0.  0.  0.  0.  0.  0.  0.  0.  0.  0.  0.  0.  0.  0.\n",
      "  0.  0.  0.  0.  0.  0.  0.  0.  0.  0.  0.  0.  0.  0.  0.  0.  0.  0.\n",
      "  0.  0.  0.  0.  0.  0.  0.  0.  0.  0.  0.  0.  0.  0.  0.  0.  0.  0.\n",
      "  0.  0.  0.  0.  0.  0.  0.  0.  0.  0.  0.  0.  0.  0.  0.  0.  0.  0.\n",
      "  0.  0.  0.  0.  0.  0.  0.  0.  0.  0.  0.  0.  0.  0.  0.  0.  0.  0.\n",
      "  0.  0.  0.  0.  0.  0.  0.  0.  0.  0.  0.  0.]\n"
     ]
    }
   ],
   "source": [
    "arrival_rate[time_period <= 30] = 10\n",
    "print(arrival_rate)"
   ]
  },
  {
   "cell_type": "code",
   "execution_count": 7,
   "metadata": {},
   "outputs": [
    {
     "name": "stdout",
     "output_type": "stream",
     "text": [
      "[10.         10.         10.         10.         10.         10.\n",
      " 10.         10.         10.         10.         10.         10.\n",
      " 10.         10.         10.         10.         10.         10.\n",
      " 10.         10.         10.         10.         10.         10.\n",
      " 10.         10.         10.         10.         10.         10.\n",
      "  3.33333333  3.33333333  3.33333333  3.33333333  3.33333333  3.33333333\n",
      "  3.33333333  3.33333333  3.33333333  3.33333333  3.33333333  3.33333333\n",
      "  3.33333333  3.33333333  3.33333333  3.33333333  3.33333333  3.33333333\n",
      "  3.33333333  3.33333333  3.33333333  3.33333333  3.33333333  3.33333333\n",
      "  3.33333333  3.33333333  3.33333333  3.33333333  3.33333333  3.33333333\n",
      "  3.33333333  3.33333333  3.33333333  3.33333333  3.33333333  3.33333333\n",
      "  3.33333333  3.33333333  3.33333333  3.33333333  3.33333333  3.33333333\n",
      "  3.33333333  3.33333333  3.33333333  3.33333333  3.33333333  3.33333333\n",
      "  3.33333333  3.33333333  3.33333333  3.33333333  3.33333333  3.33333333\n",
      "  3.33333333  3.33333333  3.33333333  3.33333333  3.33333333  3.33333333\n",
      "  3.33333333  3.33333333  3.33333333  3.33333333  3.33333333  3.33333333\n",
      "  3.33333333  3.33333333  3.33333333  3.33333333  3.33333333  3.33333333\n",
      "  3.33333333  3.33333333  3.33333333  3.33333333  3.33333333  3.33333333\n",
      "  3.33333333  3.33333333  3.33333333  3.33333333  3.33333333  3.33333333\n",
      "  3.33333333  3.33333333  3.33333333  3.33333333  3.33333333  3.33333333\n",
      "  3.33333333  3.33333333  3.33333333  3.33333333  3.33333333  3.33333333\n",
      "  3.33333333  3.33333333  3.33333333  3.33333333  3.33333333  3.33333333\n",
      "  3.33333333  3.33333333  3.33333333  3.33333333  3.33333333  3.33333333\n",
      "  3.33333333  3.33333333  3.33333333  3.33333333  3.33333333  3.33333333\n",
      "  3.33333333  3.33333333  3.33333333  3.33333333  3.33333333  3.33333333\n",
      "  3.33333333  3.33333333  3.33333333  3.33333333  3.33333333  3.33333333\n",
      "  3.33333333  3.33333333  3.33333333  3.33333333  3.33333333  3.33333333\n",
      "  3.33333333  3.33333333  3.33333333  3.33333333  3.33333333  3.33333333\n",
      "  3.33333333  3.33333333  3.33333333  3.33333333  3.33333333  3.33333333\n",
      "  3.33333333  3.33333333  3.33333333  3.33333333  3.33333333  3.33333333\n",
      "  3.33333333  3.33333333  3.33333333  3.33333333  3.33333333  3.33333333\n",
      "  3.33333333  3.33333333  3.33333333  3.33333333  3.33333333  3.33333333\n",
      "  3.33333333  3.33333333  3.33333333  3.33333333  3.33333333  3.33333333\n",
      "  3.33333333  3.33333333  3.33333333  3.33333333  3.33333333  3.33333333\n",
      "  3.33333333  3.33333333  3.33333333  3.33333333  3.33333333  3.33333333\n",
      "  3.33333333  3.33333333  3.33333333  3.33333333  3.33333333  3.33333333\n",
      "  3.33333333  3.33333333  3.33333333  3.33333333  3.33333333  3.33333333\n",
      "  3.33333333  3.33333333  3.33333333  3.33333333  3.33333333  3.33333333\n",
      "  3.33333333  3.33333333  3.33333333  3.33333333  3.33333333  3.33333333\n",
      "  3.33333333  3.33333333  3.33333333  3.33333333  3.33333333  3.33333333\n",
      "  3.33333333  3.33333333  3.33333333  3.33333333  3.33333333  3.33333333\n",
      "  3.33333333  3.33333333  3.33333333  3.33333333  3.33333333  3.33333333\n",
      "  3.33333333  3.33333333  3.33333333  3.33333333  3.33333333  3.33333333\n",
      "  3.33333333  3.33333333  3.33333333  3.33333333  3.33333333  3.33333333\n",
      "  3.33333333  3.33333333  3.33333333  3.33333333  3.33333333  3.33333333\n",
      "  3.33333333  3.33333333  3.33333333  3.33333333  3.33333333  3.33333333\n",
      "  3.33333333  3.33333333  3.33333333  3.33333333  3.33333333  3.33333333\n",
      "  3.33333333  3.33333333  3.33333333  3.33333333  3.33333333  3.33333333\n",
      "  3.33333333  3.33333333  3.33333333  3.33333333  3.33333333  3.33333333\n",
      "  3.33333333  3.33333333  3.33333333  3.33333333  3.33333333  3.33333333]\n"
     ]
    }
   ],
   "source": [
    "arrival_rate[time_period > 30] = 200/60\n",
    "print(arrival_rate)"
   ]
  },
  {
   "cell_type": "code",
   "execution_count": 11,
   "metadata": {},
   "outputs": [
    {
     "name": "stdout",
     "output_type": "stream",
     "text": [
      "[4 4 4 4 4 4 4 4 4 4 4 4 4 4 4 4 4 4 4 4 4 4 4 4 4 4 4 4 4 4 4 4 4 4 4 4 4\n",
      " 4 4 4 4 4 4 4 4 4 4 4 4 4 4 4 4 4 4 4 4 4 4 4 4 4 4 4 4 4 4 4 4 4 4 4 4 4\n",
      " 4 4 4 4 4 4 4 4 4 4 4 4 4 4 4 4 4 4 4 4 4 4 4 4 4 4 4 4 4 4 4 4 4 4 4 4 4\n",
      " 4 4 4 4 4 4 4 4 4 4 4 4 4 4 4 4 4 4 4 4 4 4 4 4 4 4 4 4 4 4 4 4 4 4 4 4 4\n",
      " 4 4 4 4 4 4 4 4 4 4 4 4 4 4 4 4 4 4 4 4 4 4 4 4 4 4 4 4 4 4 4 4 4 4 4 4 4\n",
      " 4 4 4 4 4 4 4 4 4 4 4 4 4 4 4 4 4 4 4 4 4 4 4 4 4 4 4 4 4 4 4 4 4 4 4 4 4\n",
      " 4 4 4 4 4 4 4 4 4 4 4 4 4 4 4 4 4 4 4 4 4 4 4 4 4 4 4 4 4 4 4 4 4 4 4 4 4\n",
      " 4 4 4 4 4 4 4 4 4 4 4 4 4 4 4 4 4 4 4 4 4 4 4 4 4 4 4 4 4 4 4 4 4 4 4 4 4\n",
      " 4 4 4 4]\n"
     ]
    }
   ],
   "source": [
    "departure_rate = np.full(len(time_period), 4)\n",
    "print(departure_rate)"
   ]
  },
  {
   "cell_type": "code",
   "execution_count": 13,
   "metadata": {},
   "outputs": [
    {
     "name": "stdout",
     "output_type": "stream",
     "text": [
      "[6.00000000e+00 1.20000000e+01 1.80000000e+01 2.40000000e+01\n",
      " 3.00000000e+01 3.60000000e+01 4.20000000e+01 4.80000000e+01\n",
      " 5.40000000e+01 6.00000000e+01 6.60000000e+01 7.20000000e+01\n",
      " 7.80000000e+01 8.40000000e+01 9.00000000e+01 9.60000000e+01\n",
      " 1.02000000e+02 1.08000000e+02 1.14000000e+02 1.20000000e+02\n",
      " 1.26000000e+02 1.32000000e+02 1.38000000e+02 1.44000000e+02\n",
      " 1.50000000e+02 1.56000000e+02 1.62000000e+02 1.68000000e+02\n",
      " 1.74000000e+02 1.80000000e+02 1.79333333e+02 1.78666667e+02\n",
      " 1.78000000e+02 1.77333333e+02 1.76666667e+02 1.76000000e+02\n",
      " 1.75333333e+02 1.74666667e+02 1.74000000e+02 1.73333333e+02\n",
      " 1.72666667e+02 1.72000000e+02 1.71333333e+02 1.70666667e+02\n",
      " 1.70000000e+02 1.69333333e+02 1.68666667e+02 1.68000000e+02\n",
      " 1.67333333e+02 1.66666667e+02 1.66000000e+02 1.65333333e+02\n",
      " 1.64666667e+02 1.64000000e+02 1.63333333e+02 1.62666667e+02\n",
      " 1.62000000e+02 1.61333333e+02 1.60666667e+02 1.60000000e+02\n",
      " 1.59333333e+02 1.58666667e+02 1.58000000e+02 1.57333333e+02\n",
      " 1.56666667e+02 1.56000000e+02 1.55333333e+02 1.54666667e+02\n",
      " 1.54000000e+02 1.53333333e+02 1.52666667e+02 1.52000000e+02\n",
      " 1.51333333e+02 1.50666667e+02 1.50000000e+02 1.49333333e+02\n",
      " 1.48666667e+02 1.48000000e+02 1.47333333e+02 1.46666667e+02\n",
      " 1.46000000e+02 1.45333333e+02 1.44666667e+02 1.44000000e+02\n",
      " 1.43333333e+02 1.42666667e+02 1.42000000e+02 1.41333333e+02\n",
      " 1.40666667e+02 1.40000000e+02 1.39333333e+02 1.38666667e+02\n",
      " 1.38000000e+02 1.37333333e+02 1.36666667e+02 1.36000000e+02\n",
      " 1.35333333e+02 1.34666667e+02 1.34000000e+02 1.33333333e+02\n",
      " 1.32666667e+02 1.32000000e+02 1.31333333e+02 1.30666667e+02\n",
      " 1.30000000e+02 1.29333333e+02 1.28666667e+02 1.28000000e+02\n",
      " 1.27333333e+02 1.26666667e+02 1.26000000e+02 1.25333333e+02\n",
      " 1.24666667e+02 1.24000000e+02 1.23333333e+02 1.22666667e+02\n",
      " 1.22000000e+02 1.21333333e+02 1.20666667e+02 1.20000000e+02\n",
      " 1.19333333e+02 1.18666667e+02 1.18000000e+02 1.17333333e+02\n",
      " 1.16666667e+02 1.16000000e+02 1.15333333e+02 1.14666667e+02\n",
      " 1.14000000e+02 1.13333333e+02 1.12666667e+02 1.12000000e+02\n",
      " 1.11333333e+02 1.10666667e+02 1.10000000e+02 1.09333333e+02\n",
      " 1.08666667e+02 1.08000000e+02 1.07333333e+02 1.06666667e+02\n",
      " 1.06000000e+02 1.05333333e+02 1.04666667e+02 1.04000000e+02\n",
      " 1.03333333e+02 1.02666667e+02 1.02000000e+02 1.01333333e+02\n",
      " 1.00666667e+02 1.00000000e+02 9.93333333e+01 9.86666667e+01\n",
      " 9.80000000e+01 9.73333333e+01 9.66666667e+01 9.60000000e+01\n",
      " 9.53333333e+01 9.46666667e+01 9.40000000e+01 9.33333333e+01\n",
      " 9.26666667e+01 9.20000000e+01 9.13333333e+01 9.06666667e+01\n",
      " 9.00000000e+01 8.93333333e+01 8.86666667e+01 8.80000000e+01\n",
      " 8.73333333e+01 8.66666667e+01 8.60000000e+01 8.53333333e+01\n",
      " 8.46666667e+01 8.40000000e+01 8.33333333e+01 8.26666667e+01\n",
      " 8.20000000e+01 8.13333333e+01 8.06666667e+01 8.00000000e+01\n",
      " 7.93333333e+01 7.86666667e+01 7.80000000e+01 7.73333333e+01\n",
      " 7.66666667e+01 7.60000000e+01 7.53333333e+01 7.46666667e+01\n",
      " 7.40000000e+01 7.33333333e+01 7.26666667e+01 7.20000000e+01\n",
      " 7.13333333e+01 7.06666667e+01 7.00000000e+01 6.93333333e+01\n",
      " 6.86666667e+01 6.80000000e+01 6.73333333e+01 6.66666667e+01\n",
      " 6.60000000e+01 6.53333333e+01 6.46666667e+01 6.40000000e+01\n",
      " 6.33333333e+01 6.26666667e+01 6.20000000e+01 6.13333333e+01\n",
      " 6.06666667e+01 6.00000000e+01 5.93333333e+01 5.86666667e+01\n",
      " 5.80000000e+01 5.73333333e+01 5.66666667e+01 5.60000000e+01\n",
      " 5.53333333e+01 5.46666667e+01 5.40000000e+01 5.33333333e+01\n",
      " 5.26666667e+01 5.20000000e+01 5.13333333e+01 5.06666667e+01\n",
      " 5.00000000e+01 4.93333333e+01 4.86666667e+01 4.80000000e+01\n",
      " 4.73333333e+01 4.66666667e+01 4.60000000e+01 4.53333333e+01\n",
      " 4.46666667e+01 4.40000000e+01 4.33333333e+01 4.26666667e+01\n",
      " 4.20000000e+01 4.13333333e+01 4.06666667e+01 4.00000000e+01\n",
      " 3.93333333e+01 3.86666667e+01 3.80000000e+01 3.73333333e+01\n",
      " 3.66666667e+01 3.60000000e+01 3.53333333e+01 3.46666667e+01\n",
      " 3.40000000e+01 3.33333333e+01 3.26666667e+01 3.20000000e+01\n",
      " 3.13333333e+01 3.06666667e+01 3.00000000e+01 2.93333333e+01\n",
      " 2.86666667e+01 2.80000000e+01 2.73333333e+01 2.66666667e+01\n",
      " 2.60000000e+01 2.53333333e+01 2.46666667e+01 2.40000000e+01\n",
      " 2.33333333e+01 2.26666667e+01 2.20000000e+01 2.13333333e+01\n",
      " 2.06666667e+01 2.00000000e+01 1.93333333e+01 1.86666667e+01\n",
      " 1.80000000e+01 1.73333333e+01 1.66666667e+01 1.60000000e+01\n",
      " 1.53333333e+01 1.46666667e+01 1.40000000e+01 1.33333333e+01\n",
      " 1.26666667e+01 1.20000000e+01 1.13333333e+01 1.06666667e+01\n",
      " 1.00000000e+01 9.33333333e+00 8.66666667e+00 8.00000000e+00\n",
      " 7.33333333e+00 6.66666667e+00 6.00000000e+00 5.33333333e+00\n",
      " 4.66666667e+00 4.00000000e+00 3.33333333e+00 2.66666667e+00\n",
      " 2.00000000e+00 1.33333333e+00 6.66666667e-01 3.81028542e-13]\n"
     ]
    }
   ],
   "source": [
    "acq = np.zeros(len(time_period))\n",
    "for i in range (len(time_period)):\n",
    "    acq[i]= arrival_rate[i] - departure_rate[i]\n",
    "    if i > 0:\n",
    "        acq[i] += acq[i-1]\n",
    "print(acq)   "
   ]
  },
  {
   "cell_type": "code",
   "execution_count": 14,
   "metadata": {},
   "outputs": [
    {
     "name": "stdout",
     "output_type": "stream",
     "text": [
      "[  10.           20.           30.           40.           50.\n",
      "   60.           70.           80.           90.          100.\n",
      "  110.          120.          130.          140.          150.\n",
      "  160.          170.          180.          190.          200.\n",
      "  210.          220.          230.          240.          250.\n",
      "  260.          270.          280.          290.          300.\n",
      "  303.33333333  306.66666667  310.          313.33333333  316.66666667\n",
      "  320.          323.33333333  326.66666667  330.          333.33333333\n",
      "  336.66666667  340.          343.33333333  346.66666667  350.\n",
      "  353.33333333  356.66666667  360.          363.33333333  366.66666667\n",
      "  370.          373.33333333  376.66666667  380.          383.33333333\n",
      "  386.66666667  390.          393.33333333  396.66666667  400.\n",
      "  403.33333333  406.66666667  410.          413.33333333  416.66666667\n",
      "  420.          423.33333333  426.66666667  430.          433.33333333\n",
      "  436.66666667  440.          443.33333333  446.66666667  450.\n",
      "  453.33333333  456.66666667  460.          463.33333333  466.66666667\n",
      "  470.          473.33333333  476.66666667  480.          483.33333333\n",
      "  486.66666667  490.          493.33333333  496.66666667  500.\n",
      "  503.33333333  506.66666667  510.          513.33333333  516.66666667\n",
      "  520.          523.33333333  526.66666667  530.          533.33333333\n",
      "  536.66666667  540.          543.33333333  546.66666667  550.\n",
      "  553.33333333  556.66666667  560.          563.33333333  566.66666667\n",
      "  570.          573.33333333  576.66666667  580.          583.33333333\n",
      "  586.66666667  590.          593.33333333  596.66666667  600.\n",
      "  603.33333333  606.66666667  610.          613.33333333  616.66666667\n",
      "  620.          623.33333333  626.66666667  630.          633.33333333\n",
      "  636.66666667  640.          643.33333333  646.66666667  650.\n",
      "  653.33333333  656.66666667  660.          663.33333333  666.66666667\n",
      "  670.          673.33333333  676.66666667  680.          683.33333333\n",
      "  686.66666667  690.          693.33333333  696.66666667  700.\n",
      "  703.33333333  706.66666667  710.          713.33333333  716.66666667\n",
      "  720.          723.33333333  726.66666667  730.          733.33333333\n",
      "  736.66666667  740.          743.33333333  746.66666667  750.\n",
      "  753.33333333  756.66666667  760.          763.33333333  766.66666667\n",
      "  770.          773.33333333  776.66666667  780.          783.33333333\n",
      "  786.66666667  790.          793.33333333  796.66666667  800.\n",
      "  803.33333333  806.66666667  810.          813.33333333  816.66666667\n",
      "  820.          823.33333333  826.66666667  830.          833.33333333\n",
      "  836.66666667  840.          843.33333333  846.66666667  850.\n",
      "  853.33333333  856.66666667  860.          863.33333333  866.66666667\n",
      "  870.          873.33333333  876.66666667  880.          883.33333333\n",
      "  886.66666667  890.          893.33333333  896.66666667  900.\n",
      "  903.33333333  906.66666667  910.          913.33333333  916.66666667\n",
      "  920.          923.33333333  926.66666667  930.          933.33333333\n",
      "  936.66666667  940.          943.33333333  946.66666667  950.\n",
      "  953.33333333  956.66666667  960.          963.33333333  966.66666667\n",
      "  970.          973.33333333  976.66666667  980.          983.33333333\n",
      "  986.66666667  990.          993.33333333  996.66666667 1000.\n",
      " 1003.33333333 1006.66666667 1010.         1013.33333333 1016.66666667\n",
      " 1020.         1023.33333333 1026.66666667 1030.         1033.33333333\n",
      " 1036.66666667 1040.         1043.33333333 1046.66666667 1050.\n",
      " 1053.33333333 1056.66666667 1060.         1063.33333333 1066.66666667\n",
      " 1070.         1073.33333333 1076.66666667 1080.         1083.33333333\n",
      " 1086.66666667 1090.         1093.33333333 1096.66666667 1100.\n",
      " 1103.33333333 1106.66666667 1110.         1113.33333333 1116.66666667\n",
      " 1120.         1123.33333333 1126.66666667 1130.         1133.33333333\n",
      " 1136.66666667 1140.         1143.33333333 1146.66666667 1150.\n",
      " 1153.33333333 1156.66666667 1160.         1163.33333333 1166.66666667\n",
      " 1170.         1173.33333333 1176.66666667 1180.         1183.33333333\n",
      " 1186.66666667 1190.         1193.33333333 1196.66666667 1200.        ]\n"
     ]
    }
   ],
   "source": [
    "aat = np.zeros(len(time_period))\n",
    "for i in range (len(time_period)):\n",
    "    aat[i]= arrival_rate[i]\n",
    "    if i > 0:\n",
    "        aat[i] += aat[i-1]\n",
    "print(aat)   "
   ]
  },
  {
   "cell_type": "code",
   "execution_count": 15,
   "metadata": {},
   "outputs": [
    {
     "name": "stdout",
     "output_type": "stream",
     "text": [
      "[   4.    8.   12.   16.   20.   24.   28.   32.   36.   40.   44.   48.\n",
      "   52.   56.   60.   64.   68.   72.   76.   80.   84.   88.   92.   96.\n",
      "  100.  104.  108.  112.  116.  120.  124.  128.  132.  136.  140.  144.\n",
      "  148.  152.  156.  160.  164.  168.  172.  176.  180.  184.  188.  192.\n",
      "  196.  200.  204.  208.  212.  216.  220.  224.  228.  232.  236.  240.\n",
      "  244.  248.  252.  256.  260.  264.  268.  272.  276.  280.  284.  288.\n",
      "  292.  296.  300.  304.  308.  312.  316.  320.  324.  328.  332.  336.\n",
      "  340.  344.  348.  352.  356.  360.  364.  368.  372.  376.  380.  384.\n",
      "  388.  392.  396.  400.  404.  408.  412.  416.  420.  424.  428.  432.\n",
      "  436.  440.  444.  448.  452.  456.  460.  464.  468.  472.  476.  480.\n",
      "  484.  488.  492.  496.  500.  504.  508.  512.  516.  520.  524.  528.\n",
      "  532.  536.  540.  544.  548.  552.  556.  560.  564.  568.  572.  576.\n",
      "  580.  584.  588.  592.  596.  600.  604.  608.  612.  616.  620.  624.\n",
      "  628.  632.  636.  640.  644.  648.  652.  656.  660.  664.  668.  672.\n",
      "  676.  680.  684.  688.  692.  696.  700.  704.  708.  712.  716.  720.\n",
      "  724.  728.  732.  736.  740.  744.  748.  752.  756.  760.  764.  768.\n",
      "  772.  776.  780.  784.  788.  792.  796.  800.  804.  808.  812.  816.\n",
      "  820.  824.  828.  832.  836.  840.  844.  848.  852.  856.  860.  864.\n",
      "  868.  872.  876.  880.  884.  888.  892.  896.  900.  904.  908.  912.\n",
      "  916.  920.  924.  928.  932.  936.  940.  944.  948.  952.  956.  960.\n",
      "  964.  968.  972.  976.  980.  984.  988.  992.  996. 1000. 1004. 1008.\n",
      " 1012. 1016. 1020. 1024. 1028. 1032. 1036. 1040. 1044. 1048. 1052. 1056.\n",
      " 1060. 1064. 1068. 1072. 1076. 1080. 1084. 1088. 1092. 1096. 1100. 1104.\n",
      " 1108. 1112. 1116. 1120. 1124. 1128. 1132. 1136. 1140. 1144. 1148. 1152.\n",
      " 1156. 1160. 1164. 1168. 1172. 1176. 1180. 1184. 1188. 1192. 1196. 1200.]\n"
     ]
    }
   ],
   "source": [
    "adt = np.zeros(len(time_period))\n",
    "for i in range (len(time_period)):\n",
    "    adt[i]= departure_rate[i]\n",
    "    if i > 0:\n",
    "        adt[i] += adt[i-1]\n",
    "print(adt)   "
   ]
  },
  {
   "cell_type": "code",
   "execution_count": 16,
   "metadata": {},
   "outputs": [
    {
     "data": {
      "text/html": [
       "<div>\n",
       "<style scoped>\n",
       "    .dataframe tbody tr th:only-of-type {\n",
       "        vertical-align: middle;\n",
       "    }\n",
       "\n",
       "    .dataframe tbody tr th {\n",
       "        vertical-align: top;\n",
       "    }\n",
       "\n",
       "    .dataframe thead th {\n",
       "        text-align: right;\n",
       "    }\n",
       "</style>\n",
       "<table border=\"1\" class=\"dataframe\">\n",
       "  <thead>\n",
       "    <tr style=\"text-align: right;\">\n",
       "      <th></th>\n",
       "      <th>Time Period (min)</th>\n",
       "      <th>Arrival Rate 1&amp;2</th>\n",
       "      <th>Departure Rate</th>\n",
       "      <th>Accumulative Queues</th>\n",
       "      <th>Accumulative Arrival Total</th>\n",
       "      <th>Accumulative Departure Total</th>\n",
       "    </tr>\n",
       "  </thead>\n",
       "  <tbody>\n",
       "    <tr>\n",
       "      <th>0</th>\n",
       "      <td>1</td>\n",
       "      <td>10.000000</td>\n",
       "      <td>4</td>\n",
       "      <td>6.000000e+00</td>\n",
       "      <td>10.000000</td>\n",
       "      <td>4.0</td>\n",
       "    </tr>\n",
       "    <tr>\n",
       "      <th>1</th>\n",
       "      <td>2</td>\n",
       "      <td>10.000000</td>\n",
       "      <td>4</td>\n",
       "      <td>1.200000e+01</td>\n",
       "      <td>20.000000</td>\n",
       "      <td>8.0</td>\n",
       "    </tr>\n",
       "    <tr>\n",
       "      <th>2</th>\n",
       "      <td>3</td>\n",
       "      <td>10.000000</td>\n",
       "      <td>4</td>\n",
       "      <td>1.800000e+01</td>\n",
       "      <td>30.000000</td>\n",
       "      <td>12.0</td>\n",
       "    </tr>\n",
       "    <tr>\n",
       "      <th>3</th>\n",
       "      <td>4</td>\n",
       "      <td>10.000000</td>\n",
       "      <td>4</td>\n",
       "      <td>2.400000e+01</td>\n",
       "      <td>40.000000</td>\n",
       "      <td>16.0</td>\n",
       "    </tr>\n",
       "    <tr>\n",
       "      <th>4</th>\n",
       "      <td>5</td>\n",
       "      <td>10.000000</td>\n",
       "      <td>4</td>\n",
       "      <td>3.000000e+01</td>\n",
       "      <td>50.000000</td>\n",
       "      <td>20.0</td>\n",
       "    </tr>\n",
       "    <tr>\n",
       "      <th>...</th>\n",
       "      <td>...</td>\n",
       "      <td>...</td>\n",
       "      <td>...</td>\n",
       "      <td>...</td>\n",
       "      <td>...</td>\n",
       "      <td>...</td>\n",
       "    </tr>\n",
       "    <tr>\n",
       "      <th>295</th>\n",
       "      <td>296</td>\n",
       "      <td>3.333333</td>\n",
       "      <td>4</td>\n",
       "      <td>2.666667e+00</td>\n",
       "      <td>1186.666667</td>\n",
       "      <td>1184.0</td>\n",
       "    </tr>\n",
       "    <tr>\n",
       "      <th>296</th>\n",
       "      <td>297</td>\n",
       "      <td>3.333333</td>\n",
       "      <td>4</td>\n",
       "      <td>2.000000e+00</td>\n",
       "      <td>1190.000000</td>\n",
       "      <td>1188.0</td>\n",
       "    </tr>\n",
       "    <tr>\n",
       "      <th>297</th>\n",
       "      <td>298</td>\n",
       "      <td>3.333333</td>\n",
       "      <td>4</td>\n",
       "      <td>1.333333e+00</td>\n",
       "      <td>1193.333333</td>\n",
       "      <td>1192.0</td>\n",
       "    </tr>\n",
       "    <tr>\n",
       "      <th>298</th>\n",
       "      <td>299</td>\n",
       "      <td>3.333333</td>\n",
       "      <td>4</td>\n",
       "      <td>6.666667e-01</td>\n",
       "      <td>1196.666667</td>\n",
       "      <td>1196.0</td>\n",
       "    </tr>\n",
       "    <tr>\n",
       "      <th>299</th>\n",
       "      <td>300</td>\n",
       "      <td>3.333333</td>\n",
       "      <td>4</td>\n",
       "      <td>3.810285e-13</td>\n",
       "      <td>1200.000000</td>\n",
       "      <td>1200.0</td>\n",
       "    </tr>\n",
       "  </tbody>\n",
       "</table>\n",
       "<p>300 rows × 6 columns</p>\n",
       "</div>"
      ],
      "text/plain": [
       "     Time Period (min)  Arrival Rate 1&2  Departure Rate  Accumulative Queues  \\\n",
       "0                    1         10.000000               4         6.000000e+00   \n",
       "1                    2         10.000000               4         1.200000e+01   \n",
       "2                    3         10.000000               4         1.800000e+01   \n",
       "3                    4         10.000000               4         2.400000e+01   \n",
       "4                    5         10.000000               4         3.000000e+01   \n",
       "..                 ...               ...             ...                  ...   \n",
       "295                296          3.333333               4         2.666667e+00   \n",
       "296                297          3.333333               4         2.000000e+00   \n",
       "297                298          3.333333               4         1.333333e+00   \n",
       "298                299          3.333333               4         6.666667e-01   \n",
       "299                300          3.333333               4         3.810285e-13   \n",
       "\n",
       "     Accumulative Arrival Total  Accumulative Departure Total  \n",
       "0                     10.000000                           4.0  \n",
       "1                     20.000000                           8.0  \n",
       "2                     30.000000                          12.0  \n",
       "3                     40.000000                          16.0  \n",
       "4                     50.000000                          20.0  \n",
       "..                          ...                           ...  \n",
       "295                 1186.666667                        1184.0  \n",
       "296                 1190.000000                        1188.0  \n",
       "297                 1193.333333                        1192.0  \n",
       "298                 1196.666667                        1196.0  \n",
       "299                 1200.000000                        1200.0  \n",
       "\n",
       "[300 rows x 6 columns]"
      ]
     },
     "execution_count": 16,
     "metadata": {},
     "output_type": "execute_result"
    }
   ],
   "source": [
    "df = pd.DataFrame({\"Time Period (min)\":time_period, \n",
    "                   \"Arrival Rate 1&2\":arrival_rate,\n",
    "                   \"Departure Rate\": departure_rate,\n",
    "                   \"Accumulative Queues\": acq,\n",
    "                   \"Accumulative Arrival Total\": aat,\n",
    "                   \"Accumulative Departure Total\": adt})\n",
    "df"
   ]
  },
  {
   "cell_type": "code",
   "execution_count": 18,
   "metadata": {},
   "outputs": [],
   "source": [
    "df.to_csv(\"FMSThird1.csv\", index=False)"
   ]
  },
  {
   "cell_type": "code",
   "execution_count": null,
   "metadata": {},
   "outputs": [],
   "source": [
    "df"
   ]
  },
  {
   "cell_type": "code",
   "execution_count": 39,
   "metadata": {},
   "outputs": [
    {
     "data": {
      "image/png": "[encoded data removed]",
      "text/plain": [
       "<Figure size 576x360 with 1 Axes>"
      ]
     },
     "metadata": {
      "needs_background": "light"
     },
     "output_type": "display_data"
    }
   ],
   "source": [
    "fig, ax = plt.subplots(figsize=(8,5))\n",
    "ax.set_title(\"Queuing Diagram\")\n",
    "ax.hlines(300, xmin=0, xmax=30, color=\"black\", alpha=0.3, ls=\"--\")\n",
    "ax.vlines(30, ymin=0, ymax=300, color=\"black\", alpha=0.3, ls=\"--\")\n",
    "sns.lineplot(data=df, x= \"Time Period (min)\", y=\"Accumulative Arrival Total\", ax=ax, label='Arrivals (Cumulative Number)')\n",
    "sns.lineplot(data=df, x= \"Time Period (min)\", y=\"Accumulative Departure Total\", ax=ax, label='Depatures (Cumulative Number)')\n",
    "ax.set_ylabel('Number of Vehicles')\n",
    "ax.set_ylim(0,1200)\n",
    "ax.set_xlim(0,300)\n",
    "plt.legend()\n",
    "plt.tight_layout()\n",
    "plt.savefig(\"FMSThird1QueuingDiagram.pdf\")\n",
    "plt.show()"
   ]
  },
  {
   "cell_type": "code",
   "execution_count": null,
   "metadata": {},
   "outputs": [],
   "source": []
  },
  {
   "cell_type": "code",
   "execution_count": null,
   "metadata": {},
   "outputs": [],
   "source": []
  },
  {
   "cell_type": "code",
   "execution_count": null,
   "metadata": {},
   "outputs": [],
   "source": []
  },
  {
   "cell_type": "code",
   "execution_count": null,
   "metadata": {},
   "outputs": [],
   "source": []
  },
  {
   "cell_type": "code",
   "execution_count": null,
   "metadata": {},
   "outputs": [],
   "source": []
  },
  {
   "cell_type": "code",
   "execution_count": null,
   "metadata": {},
   "outputs": [],
   "source": []
  },
  {
   "cell_type": "code",
   "execution_count": null,
   "metadata": {},
   "outputs": [],
   "source": []
  },
  {
   "cell_type": "code",
   "execution_count": null,
   "metadata": {},
   "outputs": [],
   "source": []
  },
  {
   "cell_type": "code",
   "execution_count": null,
   "metadata": {},
   "outputs": [],
   "source": []
  },
  {
   "cell_type": "code",
   "execution_count": null,
   "metadata": {},
   "outputs": [],
   "source": []
  },
  {
   "cell_type": "code",
   "execution_count": null,
   "metadata": {},
   "outputs": [],
   "source": []
  },
  {
   "cell_type": "code",
   "execution_count": null,
   "metadata": {},
   "outputs": [],
   "source": []
  },
  {
   "cell_type": "code",
   "execution_count": null,
   "metadata": {},
   "outputs": [],
   "source": []
  },
  {
   "cell_type": "code",
   "execution_count": null,
   "metadata": {},
   "outputs": [],
   "source": []
  },
  {
   "cell_type": "code",
   "execution_count": null,
   "metadata": {},
   "outputs": [],
   "source": []
  },
  {
   "cell_type": "code",
   "execution_count": null,
   "metadata": {},
   "outputs": [],
   "source": []
  },
  {
   "cell_type": "code",
   "execution_count": null,
   "metadata": {},
   "outputs": [],
   "source": []
  },
  {
   "cell_type": "code",
   "execution_count": null,
   "metadata": {},
   "outputs": [],
   "source": []
  },
  {
   "cell_type": "code",
   "execution_count": null,
   "metadata": {},
   "outputs": [],
   "source": []
  },
  {
   "cell_type": "code",
   "execution_count": null,
   "metadata": {},
   "outputs": [],
   "source": []
  },
  {
   "cell_type": "code",
   "execution_count": null,
   "metadata": {},
   "outputs": [],
   "source": []
  },
  {
   "cell_type": "code",
   "execution_count": null,
   "metadata": {},
   "outputs": [],
   "source": []
  }
 ],
 "metadata": {
  "kernelspec": {
   "display_name": "Python 3",
   "language": "python",
   "name": "python3"
  },
  "language_info": {
   "codemirror_mode": {
    "name": "ipython",
    "version": 3
   },
   "file_extension": ".py",
   "mimetype": "text/x-python",
   "name": "python",
   "nbconvert_exporter": "python",
   "pygments_lexer": "ipython3",
   "version": "3.8.5"
  }
 },
 "nbformat": 4,
 "nbformat_minor": 4
}
