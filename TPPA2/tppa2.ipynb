{
 "cells": [
  {
   "cell_type": "code",
   "execution_count": 8,
   "metadata": {},
   "outputs": [],
   "source": [
    "import pandas as pd\n",
    "import seaborn as sns\n",
    "import matplotlib.pyplot as plt\n",
    "import numpy as np\n",
    "import math"
   ]
  },
  {
   "cell_type": "markdown",
   "metadata": {},
   "source": [
    "# Present Value"
   ]
  },
  {
   "cell_type": "code",
   "execution_count": 36,
   "metadata": {},
   "outputs": [],
   "source": [
    "Z = 3      # In Million, investment worth of €3,000,000 realizes evenly in \"two years\" before operation starts\n",
    "V = 1      # In Million, residual value of investment is €1,000,000 after eight years of operation\n",
    "R = 0.04   # In the Finnish guidelines the discount rate is 4 %\n",
    "B = 0.6    # Annual cost savings are €600,000 in the first year of operation...\n",
    "B_r = 0.02 # ...and they grow 2% annually\n",
    "C = 0.3    # Annual operating costs are €300,000 in the first year of operation...\n",
    "C_r = 0.03 # ...and they grow 3% annually\n",
    "T = 10     # Total number of years from investing period - 2 year and the operation period of 8 years\n",
    "T0 = 2     # Investing period - 2 year"
   ]
  },
  {
   "cell_type": "markdown",
   "metadata": {},
   "source": [
    "We define the net present value as:\n",
    "\\begin{equation}\n",
    "N = \\frac{v}{(1+r)^{T+1}} + \\sum_{j = t_0}^{T} \\frac{b(j) - c(j)}{(1+r)^j} - \\sum_{j=0}^{t_0-1} \\frac{ z / t_0}{(1+r)^j}\n",
    "\\end{equation}\n",
    "with $v$ the residual value and $z$ the investment, $r$ the interest rate, $b(y)$ the benefit for year $y$, $c(y)$, the cost for year $y$, $t_0$ the year of the beginning of the operation, $T$, the total number of year (investment + operation)."
   ]
  },
  {
   "cell_type": "markdown",
   "metadata": {},
   "source": [
    "Let's split it a little bit...\n",
    "\\begin{equation}\n",
    "N = \\alpha + \\beta - \\gamma\n",
    "\\end{equation}\n",
    "\n",
    "\n",
    "\\begin{equation}\n",
    "\\alpha = \\frac{v}{(1+r)^{T+1}}\n",
    "\\end{equation}"
   ]
  },
  {
   "cell_type": "code",
   "execution_count": 28,
   "metadata": {},
   "outputs": [
    {
     "name": "stdout",
     "output_type": "stream",
     "text": [
      "alpha = 0.6495809315632679\n"
     ]
    }
   ],
   "source": [
    "alpha = V/(1+R)**(T+1)\n",
    "print(\"alpha =\", alpha)"
   ]
  },
  {
   "cell_type": "markdown",
   "metadata": {},
   "source": [
    "The benefit for year $x$ is defined as:\n",
    "\\begin{equation}\n",
    "b(x) = B (1+B_r)^x\n",
    "\\end{equation}\n",
    "with $B$, the initial benefit, $B_r$, the increasing rate of benefit for one year."
   ]
  },
  {
   "cell_type": "code",
   "execution_count": 24,
   "metadata": {},
   "outputs": [],
   "source": [
    "def b(x):\n",
    "    return B* (1+B_r)**x"
   ]
  },
  {
   "cell_type": "markdown",
   "metadata": {},
   "source": [
    "The cost for year $x$ is defined as:\n",
    "\\begin{equation}\n",
    "c(x) = C  (1+C_r)^x\n",
    "\\end{equation}\n",
    "with $C$, the initial cost, $C_r$, the increasing rate of cost for one year."
   ]
  },
  {
   "cell_type": "code",
   "execution_count": 25,
   "metadata": {},
   "outputs": [],
   "source": [
    "def c(x):\n",
    "    return C* (1+C_r)**x"
   ]
  },
  {
   "cell_type": "markdown",
   "metadata": {},
   "source": [
    "We define:\n",
    "\\begin{equation}\n",
    "\\beta = \\sum_{j = t_0}^{T} \\frac{b(j) - c(j)}{(1+r)^j}\n",
    "\\end{equation}\n",
    "$r$ the interest rate, $b(y)$ the benefit for year $y$, $c(y)$, the cost for year $y$, $t_0$ the year of the beginning of the operation, $T$, the total number of year (investment + operation)."
   ]
  },
  {
   "cell_type": "code",
   "execution_count": 27,
   "metadata": {},
   "outputs": [
    {
     "name": "stdout",
     "output_type": "stream",
     "text": [
      "beta = 2.2634440405486242\n"
     ]
    }
   ],
   "source": [
    "beta = 0\n",
    "for i in range(T0, T+1):\n",
    "    beta += (b(i) - c(i)) / (1+R)**i\n",
    "print(\"beta =\", beta)"
   ]
  },
  {
   "cell_type": "markdown",
   "metadata": {},
   "source": [
    "We define:\n",
    "\\begin{equation}\n",
    "\\gamma =  \\sum_{j=0}^{t_0-1} \\frac{ z / t_0}{(1+r)^j}\n",
    "\\end{equation}\n",
    "with $z$ the investment, $r$ the interest rate, $t_0$ the year of the beginning of the operation."
   ]
  },
  {
   "cell_type": "code",
   "execution_count": 32,
   "metadata": {},
   "outputs": [
    {
     "name": "stdout",
     "output_type": "stream",
     "text": [
      "gamma = 2.9423076923076925\n"
     ]
    }
   ],
   "source": [
    "gamma = 0\n",
    "for i in range(0, T0):  # t0 - 1 + 1 = t0 (+1 because upper limit is excluded)\n",
    "    gamma += (Z / T0) / (1+ R)**i\n",
    "print(\"gamma =\", gamma)"
   ]
  },
  {
   "cell_type": "markdown",
   "metadata": {},
   "source": [
    "\\begin{equation}\n",
    "N = \\alpha + \\beta - \\gamma\n",
    "\\end{equation}"
   ]
  },
  {
   "cell_type": "code",
   "execution_count": 34,
   "metadata": {},
   "outputs": [
    {
     "name": "stdout",
     "output_type": "stream",
     "text": [
      "n -0.029282720195800138\n"
     ]
    }
   ],
   "source": [
    "n = alpha + beta - gamma\n",
    "print(\"n\", n)"
   ]
  },
  {
   "cell_type": "markdown",
   "metadata": {},
   "source": [
    "# Benefit cost ratio"
   ]
  },
  {
   "cell_type": "markdown",
   "metadata": {},
   "source": [
    "We define the benefit cost ratio as:\n",
    "\\begin{equation}\n",
    "\\begin{split}\n",
    "BCR = \\frac{B-C+V}{Z} &= \\left( \\sum_{j = t_0}^{T} \\frac{b(j)}{(1+r)^j} -  \\sum_{j = t_0}^{T} \\frac{c(j)}{(1+r)^j} + \\frac{v}{(1+r)^{T+1}} \\right) \\frac{1}{\\sum_{j=0}^{t_0-1} \\frac{z / t_0}{(1+r)^j}}\\\\\n",
    "&= \\left( \\sum_{j = t_0}^{T} \\frac{b(j) - c(j)}{(1+r)^j} + \\frac{v}{(1+r)^{T+1}} \\right) \\frac{1}{\\sum_{j=0}^{t_0-1} \\frac{z / t_0}{(1+r)^j}} \\\\\n",
    "&= ( \\beta + \\alpha) \\frac{1}{\\gamma}\\\\\n",
    "&= \\frac{\\alpha +  \\beta}{\\gamma}\n",
    "\\end{split}\n",
    "\\end{equation}"
   ]
  },
  {
   "cell_type": "code",
   "execution_count": 35,
   "metadata": {},
   "outputs": [
    {
     "name": "stdout",
     "output_type": "stream",
     "text": [
      "ratio = 0.9900477029399894\n"
     ]
    }
   ],
   "source": [
    "ratio = (alpha + beta) / gamma\n",
    "print(\"ratio =\", ratio)"
   ]
  },
  {
   "cell_type": "markdown",
   "metadata": {},
   "source": [
    "# Toy problems"
   ]
  },
  {
   "cell_type": "markdown",
   "metadata": {},
   "source": [
    "### Problem 1"
   ]
  },
  {
   "cell_type": "markdown",
   "metadata": {},
   "source": [
    "Let's define:\n",
    "\\begin{equation}\n",
    "\\mathcal{A} = \\{1, 2, ... , N-1, N\\}\n",
    "\\end{equation}\n",
    "with $N \\in \\mathbb{N}$.\n",
    "\n",
    "Let's define \n",
    "\\begin{equation}\n",
    "b = \\sum_{i=1}^{|\\mathcal{A}|} a_i\n",
    "\\end{equation}\n",
    "with $a_i$, the $i$-th element of $\\mathcal{A}$, and $\\mid \\mathcal{A} \\mid$, the cardinal of $\\mathcal{A}$ (cardinal: 'size' of the set).\n",
    "\n",
    "Compute the value of $b$ for $N = 500$:"
   ]
  },
  {
   "cell_type": "code",
   "execution_count": 10,
   "metadata": {},
   "outputs": [
    {
     "name": "stdout",
     "output_type": "stream",
     "text": [
      "124750\n"
     ]
    }
   ],
   "source": [
    "n = 500\n",
    "a = np.arange(n)\n",
    "s = 0\n",
    "\n",
    "for i in range(len(a)):\n",
    "    s = s + a[i]\n",
    "\n",
    "print(s)"
   ]
  },
  {
   "cell_type": "markdown",
   "metadata": {},
   "source": [
    "### Problem 2\n",
    "\n",
    "Let's define:\n",
    "\\begin{equation}\n",
    "f(x) = x^2\n",
    "\\end{equation}\n",
    "with $x \\in \\mathbb{R}$.\n",
    "\n",
    "Let's define \n",
    "\\begin{equation}\n",
    "b = \\sum_{i=1}^{N} f(i)\n",
    "\\end{equation}\n",
    "with $N \\in \\mathbb{N}$.\n",
    "\n",
    "Compute the value of $b$ for $N = 500$:"
   ]
  },
  {
   "cell_type": "code",
   "execution_count": 1,
   "metadata": {},
   "outputs": [
    {
     "name": "stdout",
     "output_type": "stream",
     "text": [
      "41791750\n"
     ]
    }
   ],
   "source": [
    "def f(x):\n",
    "    return x**2\n",
    "\n",
    "N = 500\n",
    "s = 0\n",
    "for i in range(1, N+1):\n",
    "    s += f(i)\n",
    "    \n",
    "print(s)"
   ]
  },
  {
   "cell_type": "markdown",
   "metadata": {},
   "source": [
    "\n",
    "Let's define:\n",
    "\\begin{equation}\n",
    "\\begin{split}\n",
    "f(x) &= x^2\\\\\n",
    "g(x) &= x+5\\\\\n",
    "\\end{split}\n",
    "\\end{equation}\n",
    "\n",
    "with $x \\in \\mathbb{R}$.\n",
    "\n",
    "Let's define \n",
    "\\begin{equation}\n",
    "b = \\sum_{i=1}^{N} f(i) g(i + 1)\n",
    "\\end{equation}\n",
    "with $N \\in \\mathbb{N}$.\n",
    "\n",
    "Compute the value of $b$ for $N = 500$:"
   ]
  },
  {
   "cell_type": "code",
   "execution_count": 3,
   "metadata": {},
   "outputs": [
    {
     "name": "stdout",
     "output_type": "stream",
     "text": [
      "15938313000\n"
     ]
    }
   ],
   "source": [
    "def f(x):\n",
    "    return x**2\n",
    "\n",
    "def g(x):\n",
    "    return x + 5\n",
    "\n",
    "N = 500\n",
    "s = 0\n",
    "for i in range(1, N+1):\n",
    "    s += f(i) * g(i+1)\n",
    "    \n",
    "print(s)"
   ]
  }
 ],
 "metadata": {
  "kernelspec": {
   "display_name": "Python 3",
   "language": "python",
   "name": "python3"
  },
  "language_info": {
   "codemirror_mode": {
    "name": "ipython",
    "version": 3
   },
   "file_extension": ".py",
   "mimetype": "text/x-python",
   "name": "python",
   "nbconvert_exporter": "python",
   "pygments_lexer": "ipython3",
   "version": "3.8.6"
  }
 },
 "nbformat": 4,
 "nbformat_minor": 4
}
