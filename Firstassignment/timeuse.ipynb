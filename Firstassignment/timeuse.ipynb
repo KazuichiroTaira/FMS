{
 "cells": [
  {
   "cell_type": "code",
   "execution_count": 1,
   "metadata": {},
   "outputs": [],
   "source": [
    "import numpy as np\n",
    "import matplotlib.pyplot as plt\n",
    "import pandas as pd\n",
    "import os\n",
    "import datetime\n",
    "import seaborn as sns"
   ]
  },
  {
   "cell_type": "code",
   "execution_count": null,
   "outputs": [],
   "source": [
    "DATA_FOLDER = 'data'\n",
    "FIG_FOLDER = 'fig'\n",
    "\n",
    "os.makedirs(FIG_FOLDER, exist_ok=True)"
   ],
   "metadata": {
    "collapsed": false,
    "pycharm": {
     "name": "#%%\n"
    }
   }
  },
  {
   "cell_type": "code",
   "execution_count": null,
   "outputs": [],
   "source": [
    "data_file = os.path.join(DATA_FOLDER, 'clean_timeuse.csv')\n",
    "df = pd.read_csv(data_file)\n",
    "\n",
    "print(df.head())"
   ],
   "metadata": {
    "collapsed": false,
    "pycharm": {
     "name": "#%%\n"
    }
   }
  },
  {
   "cell_type": "code",
   "execution_count": null,
   "outputs": [],
   "source": [
    "sns.lineplot(data=df, x=\"year\", y=\"Travel to and from work\", hue=\"gender\")\n",
    "plt.show()"
   ],
   "metadata": {
    "collapsed": false,
    "pycharm": {
     "name": "#%%\n"
    }
   }
  },
  {
   "cell_type": "code",
   "execution_count": 2,
   "metadata": {},
   "outputs": [],
   "source": [
    "sns.lineplot(data=df, x=\"year\", y=\"Travel to and from work\", hue=\"gender\")\n",
    "plt.show()"
   ]
  },
  {
   "cell_type": "code",
   "execution_count": 3,
   "metadata": {},
   "outputs": [
    {
     "name": "stdout",
     "output_type": "stream",
     "text": [
      "  gender  year  Gainful employment  Travel to and from work  Housekeeping  \\\n",
      "0    Men  1979                 0.0                     18.0          34.0   \n",
      "1    Men  1987                 9.0                      2.0          35.0   \n",
      "2    Men  1999                 8.0                     19.0           4.0   \n",
      "3    Men  2009                 7.0                     15.0          47.0   \n",
      "4  Women  1979                53.0                     14.0          18.0   \n",
      "\n",
      "   Maintenance work  Other domestic work  Childcare  Shopping and services  \\\n",
      "0              27.0                 11.0        8.0                   19.0   \n",
      "1              27.0                 12.0        9.0                    2.0   \n",
      "2              25.0                 11.0        9.0                   21.0   \n",
      "3              22.0                 14.0       11.0                   22.0   \n",
      "4               1.0                  1.0       24.0                   25.0   \n",
      "\n",
      "   Travel related to domestic work  ...  Sports and outdoor activities  \\\n",
      "0                             11.0  ...                           42.0   \n",
      "1                             18.0  ...                           39.0   \n",
      "2                             17.0  ...                           39.0   \n",
      "3                             16.0  ...                           41.0   \n",
      "4                             12.0  ...                           23.0   \n",
      "\n",
      "   Entertainment and culture  Reading  Listening to radio  \\\n",
      "0                        7.0     52.0                 1.0   \n",
      "1                        6.0      5.0                11.0   \n",
      "2                        6.0     39.0                 5.0   \n",
      "3                        5.0     37.0                 4.0   \n",
      "4                        5.0     45.0                 6.0   \n",
      "\n",
      "   Watching television  Socialising with family  Socialising with friends  \\\n",
      "0                 27.0                     12.0                      59.0   \n",
      "1                 51.0                     11.0                      53.0   \n",
      "2                 25.0                      5.0                      46.0   \n",
      "3                  2.0                      6.0                      43.0   \n",
      "4                  1.0                     13.0                       1.0   \n",
      "\n",
      "   Hobbies  Other free time  Travel related to free time  \n",
      "0     18.0             35.0                         31.0  \n",
      "1      2.0              2.0                         34.0  \n",
      "2     32.0             17.0                         32.0  \n",
      "3      2.0             16.0                         29.0  \n",
      "4     36.0             29.0                         25.0  \n",
      "\n",
      "[5 rows x 27 columns]\n"
     ]
    }
   ],
   "source": [
    "data_file = os.path.join(DATA_FOLDER, 'clean_timeuse.csv')\n",
    "df = pd.read_csv(data_file)\n",
    "\n",
    "print(df.head())"
   ]
  },
  {
   "cell_type": "code",
   "execution_count": 4,
   "metadata": {},
   "outputs": [
    {
     "data": {
      "image/png": "[encoded data removed]",
      "text/plain": [
       "<Figure size 432x288 with 1 Axes>"
      ]
     },
     "metadata": {
      "needs_background": "light"
     },
     "output_type": "display_data"
    }
   ],
   "source": [
    "sns.lineplot(data=df, x=\"year\", y=\"Travel to and from work\", hue=\"gender\")\n",
    "plt.show()"
   ]
  }
 ],
 "metadata": {
  "kernelspec": {
   "display_name": "Python 3",
   "language": "python",
   "name": "python3"
  },
  "language_info": {
   "codemirror_mode": {
    "name": "ipython",
    "version": 3
   },
   "file_extension": ".py",
   "mimetype": "text/x-python",
   "name": "python",
   "nbconvert_exporter": "python",
   "pygments_lexer": "ipython3",
   "version": "3.8.5"
  }
 },
 "nbformat": 4,
 "nbformat_minor": 1
}