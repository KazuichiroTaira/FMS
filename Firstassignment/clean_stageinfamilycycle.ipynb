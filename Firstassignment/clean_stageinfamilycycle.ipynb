{
 "cells": [
  {
   "cell_type": "code",
   "execution_count": 15,
   "metadata": {},
   "outputs": [],
   "source": [
    "import numpy as np\n",
    "import matplotlib.pyplot as plt\n",
    "import pandas as pd\n",
    "import os\n",
    "import datetime\n",
    "import seaborn as sns"
   ]
  },
  {
   "cell_type": "code",
   "execution_count": 16,
   "metadata": {},
   "outputs": [
    {
     "name": "stdout",
     "output_type": "stream",
     "text": [
      "                    Activity  \\\n",
      "0  01     Gainful employment   \n",
      "1  01     Gainful employment   \n",
      "2  01     Gainful employment   \n",
      "3  01     Gainful employment   \n",
      "4  01     Gainful employment   \n",
      "\n",
      "                               Stage in family cycle Men 1987-1988  \\\n",
      "0  Aged under 45, single, no children, living wit...          2.22   \n",
      "1  Aged under 45, single, no children, living els...          4.18   \n",
      "2                                      Single parent             .   \n",
      "3  Aged under 45, married or cohabiting, no children          5.08   \n",
      "4     Married or cohabiting, youngest child aged 0-6          5.21   \n",
      "\n",
      "  Men 1999-2000 Men 2009-2010  Women 1987-1988  Women 1999-2000  \\\n",
      "0          1.16          0.56             1.10             0.27   \n",
      "1          3.32          3.14             3.40             3.05   \n",
      "2             .             .             3.35             2.39   \n",
      "3          4.19          3.33             4.01             3.10   \n",
      "4          5.14          4.54             2.33             2.14   \n",
      "\n",
      "   Women 2009-2010  \n",
      "0             0.27  \n",
      "1             2.41  \n",
      "2             2.47  \n",
      "3             3.10  \n",
      "4             2.18  \n"
     ]
    }
   ],
   "source": [
    "DATA_FOLDER = 'data'\n",
    "\n",
    "data_file = os.path.join(DATA_FOLDER, 'stageinfamilycycle.csv')\n",
    "df = pd.read_csv(data_file, sep=\";\")\n",
    "\n",
    "print(df.head())"
   ]
  },
  {
   "cell_type": "code",
   "execution_count": 17,
   "metadata": {},
   "outputs": [
    {
     "name": "stdout",
     "output_type": "stream",
     "text": [
      "['01     Gainful employment' '02     Travel to and from work'\n",
      " '03     Housekeeping' '04     Maintenance work'\n",
      " '05     Other domestic work' '06     Childcare'\n",
      " '07     Shopping and services' '08     Travel related to domestic work'\n",
      " '09     Sleep' '10     Meals' '11     Washing and dressing'\n",
      " '12     School or university' '13     Travel related to study'\n",
      " '14     Free time study (incl. related travel)'\n",
      " '15     Participatory activity' '16     Sports and outdoor activities'\n",
      " '17     Entertainment and culture' '18     Reading'\n",
      " '19     Listening to radio' '20     Watching television'\n",
      " '21     Socialising with family' '22     Socialising with friends'\n",
      " '23     Hobbies' '24     Other free time'\n",
      " '25     Travel related to free time']\n"
     ]
    }
   ],
   "source": [
    "activities = df[\"Activity\"].unique()\n",
    "print(activities)"
   ]
  },
  {
   "cell_type": "code",
   "execution_count": 18,
   "metadata": {},
   "outputs": [
    {
     "name": "stdout",
     "output_type": "stream",
     "text": [
      "['Aged under 45, single, no children, living with parents'\n",
      " 'Aged under 45, single, no children, living elsewhere' 'Single parent'\n",
      " 'Aged under 45, married or cohabiting, no children'\n",
      " 'Married or cohabiting, youngest child aged 0-6'\n",
      " 'Married or cohabiting, youngest child aged 7-17'\n",
      " 'Aged over 45, married or cohibiting, no children'\n",
      " 'Aged over 45, single, no children']\n"
     ]
    }
   ],
   "source": [
    "stages = df[\"Stage in family cycle\"].unique()\n",
    "print(stages)"
   ]
  },
  {
   "cell_type": "code",
   "execution_count": 19,
   "metadata": {},
   "outputs": [
    {
     "name": "stdout",
     "output_type": "stream",
     "text": [
      "['Men' 'Women']\n"
     ]
    }
   ],
   "source": [
    "genders = \\\n",
    "    np.unique([c_name.split(\" \")[0] \n",
    "               for c_name in df.columns \n",
    "               if c_name not in (\"Stage in family cycle\", \"Activity\")])\n",
    "print(genders)"
   ]
  },
  {
   "cell_type": "code",
   "execution_count": 29,
   "metadata": {},
   "outputs": [
    {
     "name": "stdout",
     "output_type": "stream",
     "text": [
      "['1987-1988' '1999-2000' '2009-2010']\n"
     ]
    }
   ],
   "source": [
    "years = \\\n",
    "    np.unique([c_name.split(\" \")[1] \n",
    "               for c_name in df.columns \n",
    "               if c_name not in (\"Stage in family cycle\", \"Activity\")])\n",
    "print(years)"
   ]
  },
  {
   "cell_type": "code",
   "execution_count": 52,
   "metadata": {},
   "outputs": [
    {
     "name": "stdout",
     "output_type": "stream",
     "text": [
      "                                               stage gender      years  \\\n",
      "0  Aged under 45, single, no children, living wit...    Men  1987-1988   \n",
      "1  Aged under 45, single, no children, living wit...    Men  1999-2000   \n",
      "2  Aged under 45, single, no children, living wit...    Men  2009-2010   \n",
      "3  Aged under 45, single, no children, living wit...  Women  1987-1988   \n",
      "4  Aged under 45, single, no children, living wit...  Women  1999-2000   \n",
      "\n",
      "   Gainful employment  Travel to and from work  Housekeeping  \\\n",
      "0                22.0                     10.0          18.0   \n",
      "1                16.0                      6.0          23.0   \n",
      "2                56.0                      4.0          18.0   \n",
      "3                 1.0                      7.0          48.0   \n",
      "4                27.0                      4.0          39.0   \n",
      "\n",
      "   Maintenance work  Other domestic work  Childcare  Shopping and services  \\\n",
      "0              24.0                 10.0        1.0                   15.0   \n",
      "1              16.0                  5.0        0.0                   14.0   \n",
      "2              10.0                  6.0        1.0                   11.0   \n",
      "3               9.0                  8.0        3.0                   24.0   \n",
      "4               7.0                  6.0        2.0                   23.0   \n",
      "\n",
      "   ...  Sports and outdoor activities  Entertainment and culture  Reading  \\\n",
      "0  ...                           54.0                        8.0     44.0   \n",
      "1  ...                            7.0                        5.0     23.0   \n",
      "2  ...                           57.0                        6.0     24.0   \n",
      "3  ...                           39.0                        8.0     52.0   \n",
      "4  ...                           42.0                        9.0     39.0   \n",
      "\n",
      "   Listening to radio  Watching television  Socialising with family  \\\n",
      "0                 9.0                 58.0                      7.0   \n",
      "1                 4.0                 28.0                      4.0   \n",
      "2                 2.0                 51.0                      5.0   \n",
      "3                 6.0                 39.0                     11.0   \n",
      "4                 5.0                 13.0                      7.0   \n",
      "\n",
      "   Socialising with friends  Hobbies  Other free time  \\\n",
      "0                       2.0     47.0             21.0   \n",
      "1                      58.0     34.0             20.0   \n",
      "2                      41.0     35.0             21.0   \n",
      "3                      21.0     55.0             17.0   \n",
      "4                       7.0      5.0             21.0   \n",
      "\n",
      "   Travel related to free time  \n",
      "0                         54.0  \n",
      "1                         40.0  \n",
      "2                         37.0  \n",
      "3                         48.0  \n",
      "4                         45.0  \n",
      "\n",
      "[5 rows x 28 columns]\n"
     ]
    }
   ],
   "source": [
    "vi = [\"stage\", \"gender\", \"years\"]\n",
    "act_names = [act.split(\"     \")[-1] for act in activities]\n",
    "old_act_names = activities.tolist()\n",
    "new_df = pd.DataFrame(columns=vi + act_names)\n",
    "    \n",
    "for i, row in df.iterrows():\n",
    "    stage = row[\"Stage in family cycle\"]\n",
    "    act = row[\"Activity\"]\n",
    "    act_shortened = act_names[old_act_names.index(act)]\n",
    "    for g in genders:\n",
    "        for y in years:\n",
    "            c_name = f\"{g} {y}\"\n",
    "            value = row[c_name]\n",
    "            str_value = str(value)\n",
    "            h, m = str_value.split(\".\")\n",
    "            try:\n",
    "                time = int(h) * 60 + int(m)\n",
    "            except ValueError:\n",
    "                time = np.nan\n",
    "                \n",
    "            is_st = new_df.stage == stage\n",
    "            is_g = new_df.gender == g\n",
    "            is_y = new_df.years == y\n",
    "            is_cond = new_df[is_st & is_g & is_y].index\n",
    "            if len(is_cond):\n",
    "                new_df.at[is_cond[0], act_shortened] = m\n",
    "\n",
    "            else:\n",
    "                new_df = new_df.append(\n",
    "                    {\n",
    "                        \"stage\": stage,\n",
    "                        \"gender\": g,\n",
    "                        \"years\": y,\n",
    "                        act_shortened: m\n",
    "                    }, ignore_index=True)\n",
    "\n",
    "for act in act_names:\n",
    "    new_df[act] = new_df[act].replace(\"\", np.nan).astype(\"float\")\n",
    "\n",
    "new_df.to_csv(os.path.join(DATA_FOLDER, \"clean_stageinfamilycycle.csv\"), index=False)\n",
    "\n",
    "print(new_df.head())"
   ]
  },
  {
   "cell_type": "code",
   "execution_count": null,
   "metadata": {},
   "outputs": [],
   "source": []
  }
 ],
 "metadata": {
  "kernelspec": {
   "display_name": "Python 3",
   "language": "python",
   "name": "python3"
  },
  "language_info": {
   "codemirror_mode": {
    "name": "ipython",
    "version": 3
   },
   "file_extension": ".py",
   "mimetype": "text/x-python",
   "name": "python",
   "nbconvert_exporter": "python",
   "pygments_lexer": "ipython3",
   "version": "3.8.5"
  }
 },
 "nbformat": 4,
 "nbformat_minor": 4
}
