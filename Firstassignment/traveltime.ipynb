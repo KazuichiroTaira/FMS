{
 "cells": [
  {
   "cell_type": "code",
   "execution_count": 24,
   "metadata": {},
   "outputs": [],
   "source": [
    "import numpy as np\n",
    "import matplotlib.pyplot as plt\n",
    "import pandas as pd\n",
    "import os\n",
    "import datetime\n",
    "import seaborn as sns"
   ]
  },
  {
   "cell_type": "code",
   "execution_count": 20,
   "metadata": {},
   "outputs": [
    {
     "name": "stdout",
     "output_type": "stream",
     "text": [
      "                                Time used hours,minutes Men 1979  \\\n",
      "Activity                                                           \n",
      "02     Travel to and from work                              0.18   \n",
      "\n",
      "                                Time used hours,minutes Men 1987  \\\n",
      "Activity                                                           \n",
      "02     Travel to and from work                               0.2   \n",
      "\n",
      "                                Time used hours,minutes Men 1999  \\\n",
      "Activity                                                           \n",
      "02     Travel to and from work                              0.19   \n",
      "\n",
      "                                Time used hours,minutes Men 2009  \\\n",
      "Activity                                                           \n",
      "02     Travel to and from work                              0.15   \n",
      "\n",
      "                                Time used hours,minutes Women 1979  \\\n",
      "Activity                                                             \n",
      "02     Travel to and from work                                0.14   \n",
      "\n",
      "                                Time used hours,minutes Women 1987  \\\n",
      "Activity                                                             \n",
      "02     Travel to and from work                                0.15   \n",
      "\n",
      "                                Time used hours,minutes Women 1999  \\\n",
      "Activity                                                             \n",
      "02     Travel to and from work                                0.16   \n",
      "\n",
      "                                Time used hours,minutes Women 2009  \n",
      "Activity                                                            \n",
      "02     Travel to and from work                                0.15  \n"
     ]
    }
   ],
   "source": [
    "DATA_FOLDER = 'data'\n",
    "FIG_FOLDER = 'fig'\n",
    "\n",
    "os.makedirs(FIG_FOLDER, exist_ok=True)\n",
    "\n",
    "data_file = os.path.join(DATA_FOLDER, 'traveltime.csv')\n",
    "df = pd.read_csv(data_file, sep=\";\", index_col=[0])\n",
    "\n",
    "print(df.head())"
   ]
  },
  {
   "cell_type": "code",
   "execution_count": 21,
   "metadata": {},
   "outputs": [
    {
     "name": "stdout",
     "output_type": "stream",
     "text": [
      "                             variable  value\n",
      "0    Time used hours,minutes Men 1979   0.18\n",
      "1    Time used hours,minutes Men 1987   0.20\n",
      "2    Time used hours,minutes Men 1999   0.19\n",
      "3    Time used hours,minutes Men 2009   0.15\n",
      "4  Time used hours,minutes Women 1979   0.14\n"
     ]
    }
   ],
   "source": [
    "df = df.melt()\n",
    "print(df.head())"
   ]
  },
  {
   "cell_type": "code",
   "execution_count": 34,
   "metadata": {},
   "outputs": [
    {
     "name": "stdout",
     "output_type": "stream",
     "text": [
      "   year gender  time (in minutes)\n",
      "0  1979    Men                 18\n",
      "1  1987    Men                  2\n",
      "2  1999    Men                 19\n",
      "3  2009    Men                 15\n",
      "4  1979  Women                 14\n",
      "5  1987  Women                 15\n",
      "6  1999  Women                 16\n",
      "7  2009  Women                 15\n"
     ]
    }
   ],
   "source": [
    "row_list = []\n",
    "for i, row in df.iterrows():\n",
    "    \n",
    "    # Extract gender and year from label\n",
    "    _, _, _, gender, year = row[\"variable\"].split(\" \")\n",
    "    \n",
    "    # Convert ugly string into a number of minutes\n",
    "    str_value = str(row[\"value\"])\n",
    "    h, m = str_value.split(\".\")\n",
    "    time = int(h) * 60 + int(m)\n",
    "    \n",
    "    # Add new row to the list (as a dictionary)\n",
    "    row_list.append(\n",
    "        {\"year\": year, \"gender\": gender, \"time (in minutes)\": time}\n",
    "    )\n",
    "\n",
    "# Create new dataframe\n",
    "\n",
    "clean_df = pd.DataFrame(row_list)\n",
    "clean_df.to_csv(os.path.join(DATA_FOLDER, \"clean_traveltime.csv\"), index=False)\n",
    "print(clean_df)   "
   ]
  },
  {
   "cell_type": "code",
   "execution_count": 37,
   "metadata": {},
   "outputs": [
    {
     "name": "stdout",
     "output_type": "stream",
     "text": [
      "   year gender  time (in minutes)\n",
      "0  1979    Men                 18\n",
      "1  1987    Men                  2\n",
      "2  1999    Men                 19\n",
      "3  2009    Men                 15\n",
      "4  1979  Women                 14\n",
      "5  1987  Women                 15\n",
      "6  1999  Women                 16\n",
      "7  2009  Women                 15\n"
     ]
    }
   ],
   "source": [
    "df = pd.read_csv(os.path.join(DATA_FOLDER, \"clean_traveltime.csv\"))\n",
    "print(df)"
   ]
  },
  {
   "cell_type": "code",
   "execution_count": 38,
   "metadata": {},
   "outputs": [
    {
     "data": {
      "image/png": "[encoded data removed]",
      "text/plain": [
       "<Figure size 432x288 with 1 Axes>"
      ]
     },
     "metadata": {
      "needs_background": "light"
     },
     "output_type": "display_data"
    }
   ],
   "source": [
    "sns.lineplot(data=df, x=\"year\", y=\"time (in minutes)\", hue=\"gender\")\n",
    "plt.show()"
   ]
  },
  {
   "cell_type": "code",
   "execution_count": null,
   "metadata": {},
   "outputs": [],
   "source": []
  }
 ],
 "metadata": {
  "kernelspec": {
   "display_name": "Python 3",
   "language": "python",
   "name": "python3"
  },
  "language_info": {
   "codemirror_mode": {
    "name": "ipython",
    "version": 3
   },
   "file_extension": ".py",
   "mimetype": "text/x-python",
   "name": "python",
   "nbconvert_exporter": "python",
   "pygments_lexer": "ipython3",
   "version": "3.8.5"
  }
 },
 "nbformat": 4,
 "nbformat_minor": 1
}
