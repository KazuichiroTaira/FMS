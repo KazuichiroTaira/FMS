{
 "cells": [
  {
   "cell_type": "code",
   "execution_count": 1,
   "metadata": {},
   "outputs": [],
   "source": [
    "import numpy as np\n",
    "import matplotlib.pyplot as plt\n",
    "import pandas as pd\n",
    "import os\n",
    "import datetime\n",
    "import seaborn as sns"
   ]
  },
  {
   "cell_type": "code",
   "execution_count": 3,
   "metadata": {},
   "outputs": [
    {
     "name": "stdout",
     "output_type": "stream",
     "text": [
      "                         Activity  Time used hours,minutes Men 1979  \\\n",
      "0       01     Gainful employment                              4.00   \n",
      "1  02     Travel to and from work                              0.18   \n",
      "2             03     Housekeeping                              0.34   \n",
      "3         04     Maintenance work                              0.27   \n",
      "4      05     Other domestic work                              0.11   \n",
      "\n",
      "   Time used hours,minutes Men 1987  Time used hours,minutes Men 1999  \\\n",
      "0                              4.09                              4.08   \n",
      "1                              0.20                              0.19   \n",
      "2                              0.35                              0.40   \n",
      "3                              0.27                              0.25   \n",
      "4                              0.12                              0.11   \n",
      "\n",
      "   Time used hours,minutes Men 2009  Time used hours,minutes Women 1979  \\\n",
      "0                              3.07                                2.53   \n",
      "1                              0.15                                0.14   \n",
      "2                              0.47                                2.18   \n",
      "3                              0.22                                0.10   \n",
      "4                              0.14                                0.10   \n",
      "\n",
      "   Time used hours,minutes Women 1987  Time used hours,minutes Women 1999  \\\n",
      "0                                3.02                                2.47   \n",
      "1                                0.15                                0.16   \n",
      "2                                2.02                                1.49   \n",
      "3                                0.09                                0.14   \n",
      "4                                0.11                                0.15   \n",
      "\n",
      "   Time used hours,minutes Women 2009  \n",
      "0                                2.27  \n",
      "1                                0.15  \n",
      "2                                1.36  \n",
      "3                                0.13  \n",
      "4                                0.18  \n"
     ]
    }
   ],
   "source": [
    "DATA_FOLDER = 'data'\n",
    "\n",
    "data_file = os.path.join(DATA_FOLDER, 'timeuse.csv')\n",
    "df = pd.read_csv(data_file, sep=\";\")\n",
    "\n",
    "print(df.head())"
   ]
  },
  {
   "cell_type": "code",
   "execution_count": 6,
   "metadata": {},
   "outputs": [
    {
     "name": "stdout",
     "output_type": "stream",
     "text": [
      "['01     Gainful employment' '02     Travel to and from work'\n",
      " '03     Housekeeping' '04     Maintenance work'\n",
      " '05     Other domestic work' '06     Childcare'\n",
      " '07     Shopping and services' '08     Travel related to domestic work'\n",
      " '09     Sleep' '10     Meals' '11     Washing and dressing'\n",
      " '12     School or university' '13     Travel related to study'\n",
      " '14     Free time study (incl. related travel)'\n",
      " '15     Participatory activity' '16     Sports and outdoor activities'\n",
      " '17     Entertainment and culture' '18     Reading'\n",
      " '19     Listening to radio' '20     Watching television'\n",
      " '21     Socialising with family' '22     Socialising with friends'\n",
      " '23     Hobbies' '24     Other free time'\n",
      " '25     Travel related to free time']\n"
     ]
    }
   ],
   "source": [
    "activities = df[\"Activity\"].unique()\n",
    "print(activities)"
   ]
  },
  {
   "cell_type": "code",
   "execution_count": 8,
   "metadata": {},
   "outputs": [
    {
     "name": "stdout",
     "output_type": "stream",
     "text": [
      "['Men' 'Women']\n"
     ]
    }
   ],
   "source": [
    "genders = \\\n",
    "    np.unique([c_name.split(\" \")[-2] \n",
    "               for c_name in df.columns \n",
    "               if c_name not in (\"Activity\", )])\n",
    "print(genders)"
   ]
  },
  {
   "cell_type": "code",
   "execution_count": 10,
   "metadata": {},
   "outputs": [
    {
     "name": "stdout",
     "output_type": "stream",
     "text": [
      "['1979' '1987' '1999' '2009']\n"
     ]
    }
   ],
   "source": [
    "year = \\\n",
    "    np.unique([c_name.split(\" \")[-1] \n",
    "               for c_name in df.columns \n",
    "               if c_name not in (\"Stage in family cycle\", \"Activity\")])\n",
    "print(year)"
   ]
  },
  {
   "cell_type": "code",
   "execution_count": 12,
   "metadata": {},
   "outputs": [
    {
     "name": "stdout",
     "output_type": "stream",
     "text": [
      "['Gainful employment', 'Travel to and from work', 'Housekeeping', 'Maintenance work', 'Other domestic work', 'Childcare', 'Shopping and services', 'Travel related to domestic work', 'Sleep', 'Meals', 'Washing and dressing', 'School or university', 'Travel related to study', 'Free time study (incl. related travel)', 'Participatory activity', 'Sports and outdoor activities', 'Entertainment and culture', 'Reading', 'Listening to radio', 'Watching television', 'Socialising with family', 'Socialising with friends', 'Hobbies', 'Other free time', 'Travel related to free time']\n"
     ]
    }
   ],
   "source": [
    "act_names = [act.split(\"     \")[-1] for act in activities]\n",
    "print(act_names)"
   ]
  },
  {
   "cell_type": "code",
   "execution_count": 13,
   "metadata": {},
   "outputs": [
    {
     "name": "stdout",
     "output_type": "stream",
     "text": [
      "['01     Gainful employment', '02     Travel to and from work', '03     Housekeeping', '04     Maintenance work', '05     Other domestic work', '06     Childcare', '07     Shopping and services', '08     Travel related to domestic work', '09     Sleep', '10     Meals', '11     Washing and dressing', '12     School or university', '13     Travel related to study', '14     Free time study (incl. related travel)', '15     Participatory activity', '16     Sports and outdoor activities', '17     Entertainment and culture', '18     Reading', '19     Listening to radio', '20     Watching television', '21     Socialising with family', '22     Socialising with friends', '23     Hobbies', '24     Other free time', '25     Travel related to free time']\n"
     ]
    }
   ],
   "source": [
    "old_act_names = activities.tolist()\n",
    "print(old_act_names)"
   ]
  },
  {
   "cell_type": "code",
   "execution_count": 16,
   "metadata": {},
   "outputs": [
    {
     "name": "stdout",
     "output_type": "stream",
     "text": [
      "  gender  year  Gainful employment  Travel to and from work  Housekeeping  \\\n",
      "0    Men  1979                 0.0                     18.0          34.0   \n",
      "1    Men  1987                 9.0                      2.0          35.0   \n",
      "2    Men  1999                 8.0                     19.0           4.0   \n",
      "3    Men  2009                 7.0                     15.0          47.0   \n",
      "4  Women  1979                53.0                     14.0          18.0   \n",
      "\n",
      "   Maintenance work  Other domestic work  Childcare  Shopping and services  \\\n",
      "0              27.0                 11.0        8.0                   19.0   \n",
      "1              27.0                 12.0        9.0                    2.0   \n",
      "2              25.0                 11.0        9.0                   21.0   \n",
      "3              22.0                 14.0       11.0                   22.0   \n",
      "4               1.0                  1.0       24.0                   25.0   \n",
      "\n",
      "   Travel related to domestic work  ...  Sports and outdoor activities  \\\n",
      "0                             11.0  ...                           42.0   \n",
      "1                             18.0  ...                           39.0   \n",
      "2                             17.0  ...                           39.0   \n",
      "3                             16.0  ...                           41.0   \n",
      "4                             12.0  ...                           23.0   \n",
      "\n",
      "   Entertainment and culture  Reading  Listening to radio  \\\n",
      "0                        7.0     52.0                 1.0   \n",
      "1                        6.0      5.0                11.0   \n",
      "2                        6.0     39.0                 5.0   \n",
      "3                        5.0     37.0                 4.0   \n",
      "4                        5.0     45.0                 6.0   \n",
      "\n",
      "   Watching television  Socialising with family  Socialising with friends  \\\n",
      "0                 27.0                     12.0                      59.0   \n",
      "1                 51.0                     11.0                      53.0   \n",
      "2                 25.0                      5.0                      46.0   \n",
      "3                  2.0                      6.0                      43.0   \n",
      "4                  1.0                     13.0                       1.0   \n",
      "\n",
      "   Hobbies  Other free time  Travel related to free time  \n",
      "0     18.0             35.0                         31.0  \n",
      "1      2.0              2.0                         34.0  \n",
      "2     32.0             17.0                         32.0  \n",
      "3      2.0             16.0                         29.0  \n",
      "4     36.0             29.0                         25.0  \n",
      "\n",
      "[5 rows x 27 columns]\n"
     ]
    }
   ],
   "source": [
    "vi = [\"gender\", \"year\"]\n",
    "\n",
    "new_df = pd.DataFrame(columns=vi + act_names)\n",
    "    \n",
    "for i, row in df.iterrows():\n",
    "    act = row[\"Activity\"]\n",
    "    act_shortened = act_names[old_act_names.index(act)]\n",
    "    for g in genders:\n",
    "        for y in year:\n",
    "            c_name = f\"Time used hours,minutes {g} {y}\"\n",
    "            value = row[c_name]\n",
    "            str_value = str(value)\n",
    "            h, m = str_value.split(\".\")\n",
    "            try:\n",
    "                time = int(h) * 60 + int(m)\n",
    "            except ValueError:\n",
    "                time = np.nan\n",
    "                \n",
    "            is_g = new_df.gender == g\n",
    "            is_y = new_df.year == y\n",
    "            is_cond = new_df[is_g & is_y].index\n",
    "            if len(is_cond):\n",
    "                new_df.at[is_cond[0], act_shortened] = m\n",
    "\n",
    "            else:\n",
    "                new_df = new_df.append(\n",
    "                    {\n",
    "                        \"gender\": g,\n",
    "                        \"year\": y,\n",
    "                        act_shortened: m\n",
    "                    }, ignore_index=True)\n",
    "\n",
    "for act in act_names:\n",
    "    new_df[act] = new_df[act].replace(\"\", np.nan).astype(\"float\")\n",
    "\n",
    "new_df.to_csv(os.path.join(DATA_FOLDER, \"clean_timeuse.csv\"), index=False)\n",
    "\n",
    "print(new_df.head())"
   ]
  },
  {
   "cell_type": "code",
   "execution_count": null,
   "metadata": {},
   "outputs": [],
   "source": []
  }
 ],
 "metadata": {
  "kernelspec": {
   "display_name": "Python 3",
   "language": "python",
   "name": "python3"
  },
  "language_info": {
   "codemirror_mode": {
    "name": "ipython",
    "version": 3
   },
   "file_extension": ".py",
   "mimetype": "text/x-python",
   "name": "python",
   "nbconvert_exporter": "python",
   "pygments_lexer": "ipython3",
   "version": "3.8.5"
  }
 },
 "nbformat": 4,
 "nbformat_minor": 4
}
