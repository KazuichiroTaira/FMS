{
 "cells": [
  {
   "cell_type": "code",
   "execution_count": 39,
   "metadata": {},
   "outputs": [],
   "source": [
    "import numpy as np\n",
    "import matplotlib.pyplot as plt\n",
    "import pandas as pd\n",
    "import os\n",
    "import datetime\n",
    "import seaborn as sns"
   ]
  },
  {
   "cell_type": "code",
   "execution_count": 40,
   "metadata": {},
   "outputs": [
    {
     "name": "stdout",
     "output_type": "stream",
     "text": [
      "                         Activity  \\\n",
      "0  02     Travel to and from work   \n",
      "1  02     Travel to and from work   \n",
      "2  02     Travel to and from work   \n",
      "3  02     Travel to and from work   \n",
      "4  02     Travel to and from work   \n",
      "\n",
      "                               Stage in family cycle Men 1987-1988  \\\n",
      "0  Aged under 45, single, no children, living wit...          0.10   \n",
      "1  Aged under 45, single, no children, living els...          0.21   \n",
      "2                                      Single parent             .   \n",
      "3  Aged under 45, married or cohabiting, no children          0.24   \n",
      "4     Married or cohabiting, youngest child aged 0-6          0.26   \n",
      "\n",
      "  Men 1999-2000 Men 2009-2010  Women 1987-1988  Women 1999-2000  \\\n",
      "0          0.06          0.04             0.07             0.04   \n",
      "1          0.20          0.17             0.21             0.17   \n",
      "2             .             .             0.19             0.16   \n",
      "3          0.21          0.21             0.25             0.20   \n",
      "4          0.23          0.26             0.11             0.13   \n",
      "\n",
      "   Women 2009-2010  \n",
      "0             0.04  \n",
      "1             0.16  \n",
      "2             0.17  \n",
      "3             0.20  \n",
      "4             0.14  \n"
     ]
    }
   ],
   "source": [
    "DATA_FOLDER = 'data'\n",
    "FIG_FOLDER = 'fig'\n",
    "\n",
    "os.makedirs(FIG_FOLDER, exist_ok=True)\n",
    "\n",
    "data_file = os.path.join(DATA_FOLDER, 'stageinfamilycycle.csv')\n",
    "df = pd.read_csv(data_file, sep=\";\")\n",
    "\n",
    "print(df.head())"
   ]
  },
  {
   "cell_type": "code",
   "execution_count": null,
   "metadata": {},
   "outputs": [],
   "source": []
  },
  {
   "cell_type": "code",
   "execution_count": 41,
   "metadata": {},
   "outputs": [
    {
     "name": "stdout",
     "output_type": "stream",
     "text": [
      "Index(['Activity', 'Stage in family cycle', 'Men 1987-1988', 'Men 1999-2000',\n",
      "       'Men 2009-2010', 'Women 1987-1988', 'Women 1999-2000',\n",
      "       'Women 2009-2010'],\n",
      "      dtype='object')\n"
     ]
    }
   ],
   "source": [
    "print(df.columns)"
   ]
  },
  {
   "cell_type": "code",
   "execution_count": 42,
   "metadata": {},
   "outputs": [
    {
     "name": "stdout",
     "output_type": "stream",
     "text": [
      "RangeIndex(start=0, stop=8, step=1)\n"
     ]
    }
   ],
   "source": [
    "print(df.index)"
   ]
  },
  {
   "cell_type": "code",
   "execution_count": null,
   "metadata": {},
   "outputs": [],
   "source": []
  },
  {
   "cell_type": "code",
   "execution_count": 43,
   "metadata": {},
   "outputs": [
    {
     "ename": "KeyError",
     "evalue": "\"['Activity'] not found in axis\"",
     "output_type": "error",
     "traceback": [
      "\u001b[0;31m---------------------------------------------------------------------------\u001b[0m",
      "\u001b[0;31mKeyError\u001b[0m                                  Traceback (most recent call last)",
      "\u001b[0;32m<ipython-input-43-83dc6127e6a8>\u001b[0m in \u001b[0;36m<module>\u001b[0;34m\u001b[0m\n\u001b[0;32m----> 1\u001b[0;31m \u001b[0mdf\u001b[0m \u001b[0;34m=\u001b[0m \u001b[0mdf\u001b[0m\u001b[0;34m.\u001b[0m\u001b[0mdrop\u001b[0m\u001b[0;34m(\u001b[0m\u001b[0;34m\"Activity\"\u001b[0m\u001b[0;34m)\u001b[0m\u001b[0;34m\u001b[0m\u001b[0;34m\u001b[0m\u001b[0m\n\u001b[0m",
      "\u001b[0;32m/usr/local/lib/python3.8/site-packages/pandas/core/frame.py\u001b[0m in \u001b[0;36mdrop\u001b[0;34m(self, labels, axis, index, columns, level, inplace, errors)\u001b[0m\n\u001b[1;32m   4155\u001b[0m                 \u001b[0mweight\u001b[0m  \u001b[0;36m1.0\u001b[0m     \u001b[0;36m0.8\u001b[0m\u001b[0;34m\u001b[0m\u001b[0;34m\u001b[0m\u001b[0m\n\u001b[1;32m   4156\u001b[0m         \"\"\"\n\u001b[0;32m-> 4157\u001b[0;31m         return super().drop(\n\u001b[0m\u001b[1;32m   4158\u001b[0m             \u001b[0mlabels\u001b[0m\u001b[0;34m=\u001b[0m\u001b[0mlabels\u001b[0m\u001b[0;34m,\u001b[0m\u001b[0;34m\u001b[0m\u001b[0;34m\u001b[0m\u001b[0m\n\u001b[1;32m   4159\u001b[0m             \u001b[0maxis\u001b[0m\u001b[0;34m=\u001b[0m\u001b[0maxis\u001b[0m\u001b[0;34m,\u001b[0m\u001b[0;34m\u001b[0m\u001b[0;34m\u001b[0m\u001b[0m\n",
      "\u001b[0;32m/usr/local/lib/python3.8/site-packages/pandas/core/generic.py\u001b[0m in \u001b[0;36mdrop\u001b[0;34m(self, labels, axis, index, columns, level, inplace, errors)\u001b[0m\n\u001b[1;32m   3876\u001b[0m         \u001b[0;32mfor\u001b[0m \u001b[0maxis\u001b[0m\u001b[0;34m,\u001b[0m \u001b[0mlabels\u001b[0m \u001b[0;32min\u001b[0m \u001b[0maxes\u001b[0m\u001b[0;34m.\u001b[0m\u001b[0mitems\u001b[0m\u001b[0;34m(\u001b[0m\u001b[0;34m)\u001b[0m\u001b[0;34m:\u001b[0m\u001b[0;34m\u001b[0m\u001b[0;34m\u001b[0m\u001b[0m\n\u001b[1;32m   3877\u001b[0m             \u001b[0;32mif\u001b[0m \u001b[0mlabels\u001b[0m \u001b[0;32mis\u001b[0m \u001b[0;32mnot\u001b[0m \u001b[0;32mNone\u001b[0m\u001b[0;34m:\u001b[0m\u001b[0;34m\u001b[0m\u001b[0;34m\u001b[0m\u001b[0m\n\u001b[0;32m-> 3878\u001b[0;31m                 \u001b[0mobj\u001b[0m \u001b[0;34m=\u001b[0m \u001b[0mobj\u001b[0m\u001b[0;34m.\u001b[0m\u001b[0m_drop_axis\u001b[0m\u001b[0;34m(\u001b[0m\u001b[0mlabels\u001b[0m\u001b[0;34m,\u001b[0m \u001b[0maxis\u001b[0m\u001b[0;34m,\u001b[0m \u001b[0mlevel\u001b[0m\u001b[0;34m=\u001b[0m\u001b[0mlevel\u001b[0m\u001b[0;34m,\u001b[0m \u001b[0merrors\u001b[0m\u001b[0;34m=\u001b[0m\u001b[0merrors\u001b[0m\u001b[0;34m)\u001b[0m\u001b[0;34m\u001b[0m\u001b[0;34m\u001b[0m\u001b[0m\n\u001b[0m\u001b[1;32m   3879\u001b[0m \u001b[0;34m\u001b[0m\u001b[0m\n\u001b[1;32m   3880\u001b[0m         \u001b[0;32mif\u001b[0m \u001b[0minplace\u001b[0m\u001b[0;34m:\u001b[0m\u001b[0;34m\u001b[0m\u001b[0;34m\u001b[0m\u001b[0m\n",
      "\u001b[0;32m/usr/local/lib/python3.8/site-packages/pandas/core/generic.py\u001b[0m in \u001b[0;36m_drop_axis\u001b[0;34m(self, labels, axis, level, errors)\u001b[0m\n\u001b[1;32m   3910\u001b[0m                 \u001b[0mnew_axis\u001b[0m \u001b[0;34m=\u001b[0m \u001b[0maxis\u001b[0m\u001b[0;34m.\u001b[0m\u001b[0mdrop\u001b[0m\u001b[0;34m(\u001b[0m\u001b[0mlabels\u001b[0m\u001b[0;34m,\u001b[0m \u001b[0mlevel\u001b[0m\u001b[0;34m=\u001b[0m\u001b[0mlevel\u001b[0m\u001b[0;34m,\u001b[0m \u001b[0merrors\u001b[0m\u001b[0;34m=\u001b[0m\u001b[0merrors\u001b[0m\u001b[0;34m)\u001b[0m\u001b[0;34m\u001b[0m\u001b[0;34m\u001b[0m\u001b[0m\n\u001b[1;32m   3911\u001b[0m             \u001b[0;32melse\u001b[0m\u001b[0;34m:\u001b[0m\u001b[0;34m\u001b[0m\u001b[0;34m\u001b[0m\u001b[0m\n\u001b[0;32m-> 3912\u001b[0;31m                 \u001b[0mnew_axis\u001b[0m \u001b[0;34m=\u001b[0m \u001b[0maxis\u001b[0m\u001b[0;34m.\u001b[0m\u001b[0mdrop\u001b[0m\u001b[0;34m(\u001b[0m\u001b[0mlabels\u001b[0m\u001b[0;34m,\u001b[0m \u001b[0merrors\u001b[0m\u001b[0;34m=\u001b[0m\u001b[0merrors\u001b[0m\u001b[0;34m)\u001b[0m\u001b[0;34m\u001b[0m\u001b[0;34m\u001b[0m\u001b[0m\n\u001b[0m\u001b[1;32m   3913\u001b[0m             \u001b[0mresult\u001b[0m \u001b[0;34m=\u001b[0m \u001b[0mself\u001b[0m\u001b[0;34m.\u001b[0m\u001b[0mreindex\u001b[0m\u001b[0;34m(\u001b[0m\u001b[0;34m**\u001b[0m\u001b[0;34m{\u001b[0m\u001b[0maxis_name\u001b[0m\u001b[0;34m:\u001b[0m \u001b[0mnew_axis\u001b[0m\u001b[0;34m}\u001b[0m\u001b[0;34m)\u001b[0m\u001b[0;34m\u001b[0m\u001b[0;34m\u001b[0m\u001b[0m\n\u001b[1;32m   3914\u001b[0m \u001b[0;34m\u001b[0m\u001b[0m\n",
      "\u001b[0;32m/usr/local/lib/python3.8/site-packages/pandas/core/indexes/base.py\u001b[0m in \u001b[0;36mdrop\u001b[0;34m(self, labels, errors)\u001b[0m\n\u001b[1;32m   5274\u001b[0m         \u001b[0;32mif\u001b[0m \u001b[0mmask\u001b[0m\u001b[0;34m.\u001b[0m\u001b[0many\u001b[0m\u001b[0;34m(\u001b[0m\u001b[0;34m)\u001b[0m\u001b[0;34m:\u001b[0m\u001b[0;34m\u001b[0m\u001b[0;34m\u001b[0m\u001b[0m\n\u001b[1;32m   5275\u001b[0m             \u001b[0;32mif\u001b[0m \u001b[0merrors\u001b[0m \u001b[0;34m!=\u001b[0m \u001b[0;34m\"ignore\"\u001b[0m\u001b[0;34m:\u001b[0m\u001b[0;34m\u001b[0m\u001b[0;34m\u001b[0m\u001b[0m\n\u001b[0;32m-> 5276\u001b[0;31m                 \u001b[0;32mraise\u001b[0m \u001b[0mKeyError\u001b[0m\u001b[0;34m(\u001b[0m\u001b[0;34mf\"{labels[mask]} not found in axis\"\u001b[0m\u001b[0;34m)\u001b[0m\u001b[0;34m\u001b[0m\u001b[0;34m\u001b[0m\u001b[0m\n\u001b[0m\u001b[1;32m   5277\u001b[0m             \u001b[0mindexer\u001b[0m \u001b[0;34m=\u001b[0m \u001b[0mindexer\u001b[0m\u001b[0;34m[\u001b[0m\u001b[0;34m~\u001b[0m\u001b[0mmask\u001b[0m\u001b[0;34m]\u001b[0m\u001b[0;34m\u001b[0m\u001b[0;34m\u001b[0m\u001b[0m\n\u001b[1;32m   5278\u001b[0m         \u001b[0;32mreturn\u001b[0m \u001b[0mself\u001b[0m\u001b[0;34m.\u001b[0m\u001b[0mdelete\u001b[0m\u001b[0;34m(\u001b[0m\u001b[0mindexer\u001b[0m\u001b[0;34m)\u001b[0m\u001b[0;34m\u001b[0m\u001b[0;34m\u001b[0m\u001b[0m\n",
      "\u001b[0;31mKeyError\u001b[0m: \"['Activity'] not found in axis\""
     ]
    }
   ],
   "source": [
    "df = df.drop(\"Activity\")"
   ]
  },
  {
   "cell_type": "code",
   "execution_count": 36,
   "metadata": {},
   "outputs": [
    {
     "name": "stdout",
     "output_type": "stream",
     "text": [
      "   variable                           value\n",
      "0  Activity  02     Travel to and from work\n",
      "1  Activity  02     Travel to and from work\n",
      "2  Activity  02     Travel to and from work\n",
      "3  Activity  02     Travel to and from work\n",
      "4  Activity  02     Travel to and from work\n"
     ]
    }
   ],
   "source": [
    "df = df.melt()\n",
    "\n",
    "print(df.head())"
   ]
  },
  {
   "cell_type": "code",
   "execution_count": null,
   "metadata": {},
   "outputs": [],
   "source": []
  },
  {
   "cell_type": "code",
   "execution_count": 37,
   "metadata": {},
   "outputs": [
    {
     "name": "stdout",
     "output_type": "stream",
     "text": [
      "Activity XXXX 02     Travel to and from work\n",
      "Activity XXXX 02     Travel to and from work\n",
      "Activity XXXX 02     Travel to and from work\n",
      "Activity XXXX 02     Travel to and from work\n",
      "Activity XXXX 02     Travel to and from work\n",
      "Activity XXXX 02     Travel to and from work\n",
      "Activity XXXX 02     Travel to and from work\n",
      "Activity XXXX 02     Travel to and from work\n",
      "Stage in family cycle XXXX Aged under 45, single, no children, living with parents\n",
      "Stage in family cycle XXXX Aged under 45, single, no children, living elsewhere\n",
      "Stage in family cycle XXXX Single parent\n",
      "Stage in family cycle XXXX Aged under 45, married or cohabiting, no children\n",
      "Stage in family cycle XXXX Married or cohabiting, youngest child aged 0-6\n",
      "Stage in family cycle XXXX Married or cohabiting, youngest child aged 7-17\n",
      "Stage in family cycle XXXX Aged over 45, married or cohibiting, no children\n",
      "Stage in family cycle XXXX Aged over 45, single, no children\n",
      "Men 1987-1988 XXXX 0.10\n",
      "Men 1987-1988 XXXX 0.21\n",
      "Men 1987-1988 XXXX .\n",
      "Men 1987-1988 XXXX 0.24\n",
      "Men 1987-1988 XXXX 0.26\n",
      "Men 1987-1988 XXXX 0.23\n",
      "Men 1987-1988 XXXX 0.13\n",
      "Men 1987-1988 XXXX 0.06\n",
      "Men 1999-2000 XXXX 0.06\n",
      "Men 1999-2000 XXXX 0.20\n",
      "Men 1999-2000 XXXX .\n",
      "Men 1999-2000 XXXX 0.21\n",
      "Men 1999-2000 XXXX 0.23\n",
      "Men 1999-2000 XXXX 0.22\n",
      "Men 1999-2000 XXXX 0.12\n",
      "Men 1999-2000 XXXX 0.11\n",
      "Men 2009-2010 XXXX 0.04\n",
      "Men 2009-2010 XXXX 0.17\n",
      "Men 2009-2010 XXXX .\n",
      "Men 2009-2010 XXXX 0.21\n",
      "Men 2009-2010 XXXX 0.26\n",
      "Men 2009-2010 XXXX 0.25\n",
      "Men 2009-2010 XXXX 0.09\n",
      "Men 2009-2010 XXXX 0.11\n",
      "Women 1987-1988 XXXX 0.07\n",
      "Women 1987-1988 XXXX 0.21\n",
      "Women 1987-1988 XXXX 0.19\n",
      "Women 1987-1988 XXXX 0.25\n",
      "Women 1987-1988 XXXX 0.11\n",
      "Women 1987-1988 XXXX 0.19\n",
      "Women 1987-1988 XXXX 0.08\n",
      "Women 1987-1988 XXXX 0.05\n",
      "Women 1999-2000 XXXX 0.04\n",
      "Women 1999-2000 XXXX 0.17\n",
      "Women 1999-2000 XXXX 0.16\n",
      "Women 1999-2000 XXXX 0.2\n",
      "Women 1999-2000 XXXX 0.13\n",
      "Women 1999-2000 XXXX 0.2\n",
      "Women 1999-2000 XXXX 0.11\n",
      "Women 1999-2000 XXXX 0.05\n",
      "Women 2009-2010 XXXX 0.04\n",
      "Women 2009-2010 XXXX 0.16\n",
      "Women 2009-2010 XXXX 0.17\n",
      "Women 2009-2010 XXXX 0.2\n",
      "Women 2009-2010 XXXX 0.14\n",
      "Women 2009-2010 XXXX 0.22\n",
      "Women 2009-2010 XXXX 0.1\n",
      "Women 2009-2010 XXXX 0.05\n"
     ]
    }
   ],
   "source": [
    "row_list = []\n",
    "for i, row in df.iterrows():\n",
    "        print(f'{row[\"variable\"]} XXXX {row[\"value\"]}')\n",
    "    \n",
    "#     # Extract gender and year from label\n",
    "#     _, _, _, _, gender, year = row[\"variable\"].split(\" \")\n",
    "    \n",
    "#     # Convert ugly string into a number of minutes\n",
    "#     str_value = str(row[\"value\"])\n",
    "#     h, m = str_value.split(\".\")\n",
    "#     time = int(h) * 60 + int(m)\n",
    "    \n",
    "#     # Add new row to the list (as a dictionary)\n",
    "#     row_list.append(\n",
    "#         {\"year\": year, \"gender\": gender, \"time (in minutes)\": time}\n",
    "#     )\n",
    "\n",
    "# # Create new dataframe\n",
    "\n",
    "# clean_df = pd.DataFrame(row_list)\n",
    "# clean_df.to_csv(os.path.join(DATA_FOLDER, \"clean_stageinfamilycycle.csv\"), index=False)\n",
    "# print(clean_df)   "
   ]
  },
  {
   "cell_type": "code",
   "execution_count": null,
   "metadata": {},
   "outputs": [],
   "source": []
  },
  {
   "cell_type": "code",
   "execution_count": null,
   "metadata": {},
   "outputs": [],
   "source": []
  },
  {
   "cell_type": "code",
   "execution_count": null,
   "metadata": {},
   "outputs": [],
   "source": []
  },
  {
   "cell_type": "code",
   "execution_count": null,
   "metadata": {},
   "outputs": [],
   "source": []
  },
  {
   "cell_type": "code",
   "execution_count": null,
   "metadata": {},
   "outputs": [],
   "source": []
  },
  {
   "cell_type": "code",
   "execution_count": null,
   "metadata": {},
   "outputs": [],
   "source": []
  },
  {
   "cell_type": "code",
   "execution_count": null,
   "metadata": {},
   "outputs": [],
   "source": []
  },
  {
   "cell_type": "code",
   "execution_count": null,
   "metadata": {},
   "outputs": [],
   "source": []
  },
  {
   "cell_type": "code",
   "execution_count": null,
   "metadata": {},
   "outputs": [],
   "source": []
  },
  {
   "cell_type": "code",
   "execution_count": null,
   "metadata": {},
   "outputs": [],
   "source": []
  }
 ],
 "metadata": {
  "kernelspec": {
   "display_name": "Python 3",
   "language": "python",
   "name": "python3"
  },
  "language_info": {
   "codemirror_mode": {
    "name": "ipython",
    "version": 3
   },
   "file_extension": ".py",
   "mimetype": "text/x-python",
   "name": "python",
   "nbconvert_exporter": "python",
   "pygments_lexer": "ipython3",
   "version": "3.8.5"
  }
 },
 "nbformat": 4,
 "nbformat_minor": 4
}
